{
 "cells": [
  {
   "cell_type": "markdown",
   "metadata": {},
   "source": [
    "<img src=\"http://hilpisch.com/tpq_logo.png\" alt=\"The Python Quants\" width=\"35%\" align=\"right\" border=\"0\"><br>"
   ]
  },
  {
   "cell_type": "markdown",
   "metadata": {},
   "source": [
    "# Python for Finance"
   ]
  },
  {
   "cell_type": "markdown",
   "metadata": {},
   "source": [
    "**Analyze Big Financial Data**\n",
    "\n",
    "O'Reilly (2014)\n",
    "\n",
    "Yves Hilpisch"
   ]
  },
  {
   "cell_type": "markdown",
   "metadata": {},
   "source": [
    "<img style=\"border:0px solid grey;\" src=\"http://hilpisch.com/python_for_finance.png\" alt=\"Python for Finance\" width=\"30%\" align=\"left\" border=\"0\">"
   ]
  },
  {
   "cell_type": "markdown",
   "metadata": {},
   "source": [
    "**Buy the book ** |\n",
    "<a href='http://shop.oreilly.com/product/0636920032441.do' target='_blank'>O'Reilly</a> |\n",
    "<a href='http://www.amazon.com/Yves-Hilpisch/e/B00JCYHHJM' target='_blank'>Amazon</a>\n",
    "\n",
    "**All book codes & IPYNBs** |\n",
    "<a href=\"http://oreilly.quant-platform.com\">http://oreilly.quant-platform.com</a>\n",
    "\n",
    "**The Python Quants GmbH** | <a href='http://tpq.io' target='_blank'>http://tpq.io</a>\n",
    "\n",
    "**Contact us** | <a href='mailto:pff@tpq.io'>pff@tpq.io</a>"
   ]
  },
  {
   "cell_type": "markdown",
   "metadata": {},
   "source": [
    "# Introductory Examples"
   ]
  },
  {
   "cell_type": "code",
   "execution_count": 1,
   "metadata": {
    "ExecuteTime": {
     "end_time": "2017-09-09T18:44:07.730414Z",
     "start_time": "2017-09-09T18:44:07.366939Z"
    },
    "collapsed": true
   },
   "outputs": [],
   "source": [
    "from pylab import plt\n",
    "plt.style.use('ggplot')\n",
    "import matplotlib as mpl\n",
    "mpl.rcParams['font.family'] = 'serif'\n",
    "import warnings; warnings.simplefilter('ignore')"
   ]
  },
  {
   "cell_type": "markdown",
   "metadata": {},
   "source": [
    "## Implied Volatilities"
   ]
  },
  {
   "cell_type": "code",
   "execution_count": 2,
   "metadata": {
    "ExecuteTime": {
     "end_time": "2017-09-09T18:44:08.877785Z",
     "start_time": "2017-09-09T18:44:08.874968Z"
    },
    "collapsed": true,
    "uuid": "8e3ac03d-e5c1-4184-8494-5c02f5c1a897"
   },
   "outputs": [],
   "source": [
    "V0 = 17.6639"
   ]
  },
  {
   "cell_type": "code",
   "execution_count": 3,
   "metadata": {
    "ExecuteTime": {
     "end_time": "2017-09-09T18:44:09.173642Z",
     "start_time": "2017-09-09T18:44:09.171033Z"
    },
    "collapsed": true,
    "uuid": "3d727b16-4ff1-49fb-a54a-6e96568f54b0"
   },
   "outputs": [],
   "source": [
    "r = 0.01"
   ]
  },
  {
   "cell_type": "code",
   "execution_count": 4,
   "metadata": {
    "ExecuteTime": {
     "end_time": "2017-09-09T18:44:10.641038Z",
     "start_time": "2017-09-09T18:44:10.366160Z"
    },
    "uuid": "009042d8-f384-482c-8b4b-eeac6312315e"
   },
   "outputs": [],
   "source": [
    "import pandas as pd\n",
    "h5 = pd.HDFStore('./source/vstoxx_data_31032014.h5', 'r')\n",
    "futures_data = h5['futures_data']  # VSTOXX futures data\n",
    "options_data = h5['options_data']  # VSTOXX call option data\n",
    "h5.close()"
   ]
  },
  {
   "cell_type": "code",
   "execution_count": 9,
   "metadata": {
    "ExecuteTime": {
     "end_time": "2017-09-10T14:08:42.869748Z",
     "start_time": "2017-09-10T14:08:42.845088Z"
    },
    "collapsed": true
   },
   "outputs": [
    {
     "data": {
      "text/html": [
       "<div>\n",
       "<style>\n",
       "    .dataframe thead tr:only-child th {\n",
       "        text-align: right;\n",
       "    }\n",
       "\n",
       "    .dataframe thead th {\n",
       "        text-align: left;\n",
       "    }\n",
       "\n",
       "    .dataframe tbody tr th {\n",
       "        vertical-align: top;\n",
       "    }\n",
       "</style>\n",
       "<table border=\"1\" class=\"dataframe\">\n",
       "  <thead>\n",
       "    <tr style=\"text-align: right;\">\n",
       "      <th></th>\n",
       "      <th>DATE</th>\n",
       "      <th>EXP_YEAR</th>\n",
       "      <th>EXP_MONTH</th>\n",
       "      <th>PRICE</th>\n",
       "      <th>MATURITY</th>\n",
       "      <th>TTM</th>\n",
       "    </tr>\n",
       "  </thead>\n",
       "  <tbody>\n",
       "    <tr>\n",
       "      <th>496</th>\n",
       "      <td>1396224000000000000</td>\n",
       "      <td>2014</td>\n",
       "      <td>4</td>\n",
       "      <td>17.85</td>\n",
       "      <td>1397779200000000000</td>\n",
       "      <td>0.049</td>\n",
       "    </tr>\n",
       "    <tr>\n",
       "      <th>497</th>\n",
       "      <td>1396224000000000000</td>\n",
       "      <td>2014</td>\n",
       "      <td>5</td>\n",
       "      <td>19.55</td>\n",
       "      <td>1400198400000000000</td>\n",
       "      <td>0.126</td>\n",
       "    </tr>\n",
       "    <tr>\n",
       "      <th>498</th>\n",
       "      <td>1396224000000000000</td>\n",
       "      <td>2014</td>\n",
       "      <td>6</td>\n",
       "      <td>19.95</td>\n",
       "      <td>1403222400000000000</td>\n",
       "      <td>0.222</td>\n",
       "    </tr>\n",
       "    <tr>\n",
       "      <th>499</th>\n",
       "      <td>1396224000000000000</td>\n",
       "      <td>2014</td>\n",
       "      <td>7</td>\n",
       "      <td>20.40</td>\n",
       "      <td>1405641600000000000</td>\n",
       "      <td>0.299</td>\n",
       "    </tr>\n",
       "    <tr>\n",
       "      <th>500</th>\n",
       "      <td>1396224000000000000</td>\n",
       "      <td>2014</td>\n",
       "      <td>8</td>\n",
       "      <td>20.70</td>\n",
       "      <td>1408060800000000000</td>\n",
       "      <td>0.375</td>\n",
       "    </tr>\n",
       "  </tbody>\n",
       "</table>\n",
       "</div>"
      ],
      "text/plain": [
       "                    DATE  EXP_YEAR  EXP_MONTH  PRICE             MATURITY  \\\n",
       "496  1396224000000000000      2014          4  17.85  1397779200000000000   \n",
       "497  1396224000000000000      2014          5  19.55  1400198400000000000   \n",
       "498  1396224000000000000      2014          6  19.95  1403222400000000000   \n",
       "499  1396224000000000000      2014          7  20.40  1405641600000000000   \n",
       "500  1396224000000000000      2014          8  20.70  1408060800000000000   \n",
       "\n",
       "       TTM  \n",
       "496  0.049  \n",
       "497  0.126  \n",
       "498  0.222  \n",
       "499  0.299  \n",
       "500  0.375  "
      ]
     },
     "execution_count": 9,
     "metadata": {},
     "output_type": "execute_result"
    }
   ],
   "source": [
    "futures_data.head()"
   ]
  },
  {
   "cell_type": "code",
   "execution_count": 10,
   "metadata": {
    "ExecuteTime": {
     "end_time": "2017-09-10T14:08:48.873683Z",
     "start_time": "2017-09-10T14:08:48.861559Z"
    },
    "collapsed": true
   },
   "outputs": [
    {
     "data": {
      "text/html": [
       "<div>\n",
       "<style>\n",
       "    .dataframe thead tr:only-child th {\n",
       "        text-align: right;\n",
       "    }\n",
       "\n",
       "    .dataframe thead th {\n",
       "        text-align: left;\n",
       "    }\n",
       "\n",
       "    .dataframe tbody tr th {\n",
       "        vertical-align: top;\n",
       "    }\n",
       "</style>\n",
       "<table border=\"1\" class=\"dataframe\">\n",
       "  <thead>\n",
       "    <tr style=\"text-align: right;\">\n",
       "      <th></th>\n",
       "      <th>DATE</th>\n",
       "      <th>EXP_YEAR</th>\n",
       "      <th>EXP_MONTH</th>\n",
       "      <th>TYPE</th>\n",
       "      <th>STRIKE</th>\n",
       "      <th>PRICE</th>\n",
       "      <th>MATURITY</th>\n",
       "      <th>TTM</th>\n",
       "    </tr>\n",
       "  </thead>\n",
       "  <tbody>\n",
       "    <tr>\n",
       "      <th>46170</th>\n",
       "      <td>1396224000000000000</td>\n",
       "      <td>2014</td>\n",
       "      <td>4</td>\n",
       "      <td>C</td>\n",
       "      <td>1.0</td>\n",
       "      <td>16.85</td>\n",
       "      <td>1397779200000000000</td>\n",
       "      <td>0.049</td>\n",
       "    </tr>\n",
       "    <tr>\n",
       "      <th>46171</th>\n",
       "      <td>1396224000000000000</td>\n",
       "      <td>2014</td>\n",
       "      <td>4</td>\n",
       "      <td>C</td>\n",
       "      <td>2.0</td>\n",
       "      <td>15.85</td>\n",
       "      <td>1397779200000000000</td>\n",
       "      <td>0.049</td>\n",
       "    </tr>\n",
       "    <tr>\n",
       "      <th>46172</th>\n",
       "      <td>1396224000000000000</td>\n",
       "      <td>2014</td>\n",
       "      <td>4</td>\n",
       "      <td>C</td>\n",
       "      <td>3.0</td>\n",
       "      <td>14.85</td>\n",
       "      <td>1397779200000000000</td>\n",
       "      <td>0.049</td>\n",
       "    </tr>\n",
       "    <tr>\n",
       "      <th>46173</th>\n",
       "      <td>1396224000000000000</td>\n",
       "      <td>2014</td>\n",
       "      <td>4</td>\n",
       "      <td>C</td>\n",
       "      <td>4.0</td>\n",
       "      <td>13.85</td>\n",
       "      <td>1397779200000000000</td>\n",
       "      <td>0.049</td>\n",
       "    </tr>\n",
       "    <tr>\n",
       "      <th>46174</th>\n",
       "      <td>1396224000000000000</td>\n",
       "      <td>2014</td>\n",
       "      <td>4</td>\n",
       "      <td>C</td>\n",
       "      <td>5.0</td>\n",
       "      <td>12.85</td>\n",
       "      <td>1397779200000000000</td>\n",
       "      <td>0.049</td>\n",
       "    </tr>\n",
       "  </tbody>\n",
       "</table>\n",
       "</div>"
      ],
      "text/plain": [
       "                      DATE  EXP_YEAR  EXP_MONTH TYPE  STRIKE  PRICE  \\\n",
       "46170  1396224000000000000      2014          4    C     1.0  16.85   \n",
       "46171  1396224000000000000      2014          4    C     2.0  15.85   \n",
       "46172  1396224000000000000      2014          4    C     3.0  14.85   \n",
       "46173  1396224000000000000      2014          4    C     4.0  13.85   \n",
       "46174  1396224000000000000      2014          4    C     5.0  12.85   \n",
       "\n",
       "                  MATURITY    TTM  \n",
       "46170  1397779200000000000  0.049  \n",
       "46171  1397779200000000000  0.049  \n",
       "46172  1397779200000000000  0.049  \n",
       "46173  1397779200000000000  0.049  \n",
       "46174  1397779200000000000  0.049  "
      ]
     },
     "execution_count": 10,
     "metadata": {},
     "output_type": "execute_result"
    }
   ],
   "source": [
    "options_data.head()"
   ]
  },
  {
   "cell_type": "code",
   "execution_count": 11,
   "metadata": {
    "ExecuteTime": {
     "end_time": "2017-09-10T14:09:17.664041Z",
     "start_time": "2017-09-10T14:09:17.661419Z"
    },
    "collapsed": true
   },
   "outputs": [],
   "source": [
    "import datetime as dt"
   ]
  },
  {
   "cell_type": "code",
   "execution_count": 12,
   "metadata": {
    "ExecuteTime": {
     "end_time": "2017-09-10T14:20:03.152910Z",
     "start_time": "2017-09-10T14:20:03.136970Z"
    },
    "collapsed": true
   },
   "outputs": [],
   "source": [
    "futures_data['DATE'] = futures_data['DATE'].apply(lambda x: dt.datetime.fromtimestamp(x / 1e9))"
   ]
  },
  {
   "cell_type": "code",
   "execution_count": 13,
   "metadata": {
    "ExecuteTime": {
     "end_time": "2017-09-10T14:20:10.232373Z",
     "start_time": "2017-09-10T14:20:10.222012Z"
    },
    "collapsed": true
   },
   "outputs": [],
   "source": [
    "futures_data['MATURITY'] = futures_data['MATURITY'].apply(lambda x: dt.datetime.fromtimestamp(x / 1e9))"
   ]
  },
  {
   "cell_type": "code",
   "execution_count": 14,
   "metadata": {
    "ExecuteTime": {
     "end_time": "2017-09-10T14:20:14.935935Z",
     "start_time": "2017-09-10T14:20:14.916931Z"
    },
    "collapsed": true,
    "uuid": "8d5c855d-87d0-4108-93c7-57094610bd68"
   },
   "outputs": [
    {
     "data": {
      "text/html": [
       "<div>\n",
       "<style>\n",
       "    .dataframe thead tr:only-child th {\n",
       "        text-align: right;\n",
       "    }\n",
       "\n",
       "    .dataframe thead th {\n",
       "        text-align: left;\n",
       "    }\n",
       "\n",
       "    .dataframe tbody tr th {\n",
       "        vertical-align: top;\n",
       "    }\n",
       "</style>\n",
       "<table border=\"1\" class=\"dataframe\">\n",
       "  <thead>\n",
       "    <tr style=\"text-align: right;\">\n",
       "      <th></th>\n",
       "      <th>DATE</th>\n",
       "      <th>EXP_YEAR</th>\n",
       "      <th>EXP_MONTH</th>\n",
       "      <th>PRICE</th>\n",
       "      <th>MATURITY</th>\n",
       "      <th>TTM</th>\n",
       "    </tr>\n",
       "  </thead>\n",
       "  <tbody>\n",
       "    <tr>\n",
       "      <th>496</th>\n",
       "      <td>2014-03-30 19:00:00</td>\n",
       "      <td>2014</td>\n",
       "      <td>4</td>\n",
       "      <td>17.85</td>\n",
       "      <td>2014-04-17 19:00:00</td>\n",
       "      <td>0.049</td>\n",
       "    </tr>\n",
       "    <tr>\n",
       "      <th>497</th>\n",
       "      <td>2014-03-30 19:00:00</td>\n",
       "      <td>2014</td>\n",
       "      <td>5</td>\n",
       "      <td>19.55</td>\n",
       "      <td>2014-05-15 19:00:00</td>\n",
       "      <td>0.126</td>\n",
       "    </tr>\n",
       "    <tr>\n",
       "      <th>498</th>\n",
       "      <td>2014-03-30 19:00:00</td>\n",
       "      <td>2014</td>\n",
       "      <td>6</td>\n",
       "      <td>19.95</td>\n",
       "      <td>2014-06-19 19:00:00</td>\n",
       "      <td>0.222</td>\n",
       "    </tr>\n",
       "    <tr>\n",
       "      <th>499</th>\n",
       "      <td>2014-03-30 19:00:00</td>\n",
       "      <td>2014</td>\n",
       "      <td>7</td>\n",
       "      <td>20.40</td>\n",
       "      <td>2014-07-17 19:00:00</td>\n",
       "      <td>0.299</td>\n",
       "    </tr>\n",
       "    <tr>\n",
       "      <th>500</th>\n",
       "      <td>2014-03-30 19:00:00</td>\n",
       "      <td>2014</td>\n",
       "      <td>8</td>\n",
       "      <td>20.70</td>\n",
       "      <td>2014-08-14 19:00:00</td>\n",
       "      <td>0.375</td>\n",
       "    </tr>\n",
       "    <tr>\n",
       "      <th>501</th>\n",
       "      <td>2014-03-30 19:00:00</td>\n",
       "      <td>2014</td>\n",
       "      <td>9</td>\n",
       "      <td>20.95</td>\n",
       "      <td>2014-09-18 19:00:00</td>\n",
       "      <td>0.471</td>\n",
       "    </tr>\n",
       "    <tr>\n",
       "      <th>502</th>\n",
       "      <td>2014-03-30 19:00:00</td>\n",
       "      <td>2014</td>\n",
       "      <td>10</td>\n",
       "      <td>21.05</td>\n",
       "      <td>2014-10-16 19:00:00</td>\n",
       "      <td>0.548</td>\n",
       "    </tr>\n",
       "    <tr>\n",
       "      <th>503</th>\n",
       "      <td>2014-03-30 19:00:00</td>\n",
       "      <td>2014</td>\n",
       "      <td>11</td>\n",
       "      <td>21.25</td>\n",
       "      <td>2014-11-20 18:00:00</td>\n",
       "      <td>0.644</td>\n",
       "    </tr>\n",
       "  </tbody>\n",
       "</table>\n",
       "</div>"
      ],
      "text/plain": [
       "                   DATE  EXP_YEAR  EXP_MONTH  PRICE            MATURITY    TTM\n",
       "496 2014-03-30 19:00:00      2014          4  17.85 2014-04-17 19:00:00  0.049\n",
       "497 2014-03-30 19:00:00      2014          5  19.55 2014-05-15 19:00:00  0.126\n",
       "498 2014-03-30 19:00:00      2014          6  19.95 2014-06-19 19:00:00  0.222\n",
       "499 2014-03-30 19:00:00      2014          7  20.40 2014-07-17 19:00:00  0.299\n",
       "500 2014-03-30 19:00:00      2014          8  20.70 2014-08-14 19:00:00  0.375\n",
       "501 2014-03-30 19:00:00      2014          9  20.95 2014-09-18 19:00:00  0.471\n",
       "502 2014-03-30 19:00:00      2014         10  21.05 2014-10-16 19:00:00  0.548\n",
       "503 2014-03-30 19:00:00      2014         11  21.25 2014-11-20 18:00:00  0.644"
      ]
     },
     "execution_count": 14,
     "metadata": {},
     "output_type": "execute_result"
    }
   ],
   "source": [
    "futures_data"
   ]
  },
  {
   "cell_type": "code",
   "execution_count": 15,
   "metadata": {
    "ExecuteTime": {
     "end_time": "2017-09-10T14:20:53.026263Z",
     "start_time": "2017-09-10T14:20:53.021699Z"
    },
    "collapsed": true
   },
   "outputs": [],
   "source": [
    "options_data['DATE'] = options_data['DATE'].apply(lambda x: dt.datetime.fromtimestamp(x / 1e9))"
   ]
  },
  {
   "cell_type": "code",
   "execution_count": 16,
   "metadata": {
    "ExecuteTime": {
     "end_time": "2017-09-10T14:20:53.376721Z",
     "start_time": "2017-09-10T14:20:53.372276Z"
    },
    "collapsed": true
   },
   "outputs": [],
   "source": [
    "options_data['MATURITY'] = options_data['MATURITY'].apply(lambda x: dt.datetime.fromtimestamp(x / 1e9))"
   ]
  },
  {
   "cell_type": "code",
   "execution_count": 17,
   "metadata": {
    "ExecuteTime": {
     "end_time": "2017-09-10T14:20:54.463431Z",
     "start_time": "2017-09-10T14:20:54.445435Z"
    },
    "uuid": "48b29f70-8142-4960-8d4d-3a241685bc1d"
   },
   "outputs": [
    {
     "name": "stdout",
     "output_type": "stream",
     "text": [
      "<class 'pandas.core.frame.DataFrame'>\n",
      "Int64Index: 395 entries, 46170 to 46564\n",
      "Data columns (total 8 columns):\n",
      "DATE         395 non-null datetime64[ns]\n",
      "EXP_YEAR     395 non-null int64\n",
      "EXP_MONTH    395 non-null int64\n",
      "TYPE         395 non-null object\n",
      "STRIKE       395 non-null float64\n",
      "PRICE        395 non-null float64\n",
      "MATURITY     395 non-null datetime64[ns]\n",
      "TTM          395 non-null float64\n",
      "dtypes: datetime64[ns](2), float64(3), int64(2), object(1)\n",
      "memory usage: 27.8+ KB\n"
     ]
    }
   ],
   "source": [
    "options_data.info()"
   ]
  },
  {
   "cell_type": "code",
   "execution_count": 18,
   "metadata": {
    "ExecuteTime": {
     "end_time": "2017-09-10T14:21:15.653818Z",
     "start_time": "2017-09-10T14:21:15.636400Z"
    },
    "collapsed": true,
    "uuid": "dead6085-55a7-46c1-9396-3ec0e247b8f4"
   },
   "outputs": [
    {
     "data": {
      "text/html": [
       "<div>\n",
       "<style>\n",
       "    .dataframe thead tr:only-child th {\n",
       "        text-align: right;\n",
       "    }\n",
       "\n",
       "    .dataframe thead th {\n",
       "        text-align: left;\n",
       "    }\n",
       "\n",
       "    .dataframe tbody tr th {\n",
       "        vertical-align: top;\n",
       "    }\n",
       "</style>\n",
       "<table border=\"1\" class=\"dataframe\">\n",
       "  <thead>\n",
       "    <tr style=\"text-align: right;\">\n",
       "      <th></th>\n",
       "      <th>DATE</th>\n",
       "      <th>MATURITY</th>\n",
       "      <th>TTM</th>\n",
       "      <th>STRIKE</th>\n",
       "      <th>PRICE</th>\n",
       "    </tr>\n",
       "  </thead>\n",
       "  <tbody>\n",
       "    <tr>\n",
       "      <th>46170</th>\n",
       "      <td>2014-03-30 19:00:00</td>\n",
       "      <td>2014-04-17 19:00:00</td>\n",
       "      <td>0.049</td>\n",
       "      <td>1.0</td>\n",
       "      <td>16.85</td>\n",
       "    </tr>\n",
       "    <tr>\n",
       "      <th>46171</th>\n",
       "      <td>2014-03-30 19:00:00</td>\n",
       "      <td>2014-04-17 19:00:00</td>\n",
       "      <td>0.049</td>\n",
       "      <td>2.0</td>\n",
       "      <td>15.85</td>\n",
       "    </tr>\n",
       "    <tr>\n",
       "      <th>46172</th>\n",
       "      <td>2014-03-30 19:00:00</td>\n",
       "      <td>2014-04-17 19:00:00</td>\n",
       "      <td>0.049</td>\n",
       "      <td>3.0</td>\n",
       "      <td>14.85</td>\n",
       "    </tr>\n",
       "    <tr>\n",
       "      <th>46173</th>\n",
       "      <td>2014-03-30 19:00:00</td>\n",
       "      <td>2014-04-17 19:00:00</td>\n",
       "      <td>0.049</td>\n",
       "      <td>4.0</td>\n",
       "      <td>13.85</td>\n",
       "    </tr>\n",
       "    <tr>\n",
       "      <th>46174</th>\n",
       "      <td>2014-03-30 19:00:00</td>\n",
       "      <td>2014-04-17 19:00:00</td>\n",
       "      <td>0.049</td>\n",
       "      <td>5.0</td>\n",
       "      <td>12.85</td>\n",
       "    </tr>\n",
       "  </tbody>\n",
       "</table>\n",
       "</div>"
      ],
      "text/plain": [
       "                     DATE            MATURITY    TTM  STRIKE  PRICE\n",
       "46170 2014-03-30 19:00:00 2014-04-17 19:00:00  0.049     1.0  16.85\n",
       "46171 2014-03-30 19:00:00 2014-04-17 19:00:00  0.049     2.0  15.85\n",
       "46172 2014-03-30 19:00:00 2014-04-17 19:00:00  0.049     3.0  14.85\n",
       "46173 2014-03-30 19:00:00 2014-04-17 19:00:00  0.049     4.0  13.85\n",
       "46174 2014-03-30 19:00:00 2014-04-17 19:00:00  0.049     5.0  12.85"
      ]
     },
     "execution_count": 18,
     "metadata": {},
     "output_type": "execute_result"
    }
   ],
   "source": [
    "options_data[['DATE', 'MATURITY', 'TTM', 'STRIKE', 'PRICE']].head()"
   ]
  },
  {
   "cell_type": "code",
   "execution_count": 19,
   "metadata": {
    "ExecuteTime": {
     "end_time": "2017-09-10T14:21:17.630414Z",
     "start_time": "2017-09-10T14:21:17.626733Z"
    },
    "collapsed": true,
    "uuid": "808a0269-42d5-43ed-b753-28abb46820de"
   },
   "outputs": [],
   "source": [
    "options_data['IMP_VOL'] = 0.0\n",
    "  # new column for implied volatilities"
   ]
  },
  {
   "cell_type": "code",
   "execution_count": 20,
   "metadata": {
    "ExecuteTime": {
     "end_time": "2017-09-10T14:21:27.520616Z",
     "start_time": "2017-09-10T14:21:27.509131Z"
    },
    "collapsed": true,
    "uuid": "233c9f45-d3c4-48f4-8422-7e77c490d232"
   },
   "outputs": [],
   "source": [
    "from bsm_functions import *"
   ]
  },
  {
   "cell_type": "code",
   "execution_count": 48,
   "metadata": {
    "ExecuteTime": {
     "end_time": "2017-09-10T15:48:38.685954Z",
     "start_time": "2017-09-10T15:48:34.681048Z"
    },
    "collapsed": true,
    "uuid": "8da4e671-cbbc-44fd-8050-c8fe300a4501"
   },
   "outputs": [],
   "source": [
    "tol = 0.5  # tolerance level for moneyness\n",
    "for option in options_data.index:\n",
    "    # iterating over all option quotes\n",
    "    forward = futures_data[futures_data['MATURITY'] == \\\n",
    "                options_data.loc[option]['MATURITY']]['PRICE'].values[0]\n",
    "      # picking the right futures value\n",
    "    if (forward * (1 - tol) < options_data.loc[option]['STRIKE']\n",
    "                             < forward * (1 + tol)):\n",
    "        # only for options with moneyness within tolerance\n",
    "        imp_vol = bsm_call_imp_vol(\n",
    "                V0,  # VSTOXX value \n",
    "                options_data.loc[option]['STRIKE'],\n",
    "                options_data.loc[option]['TTM'],\n",
    "                r,   # short rate\n",
    "                options_data.loc[option]['PRICE'],\n",
    "                sigma_est=2.,  # estimate for implied volatility\n",
    "                it=100)\n",
    "        options_data.ix[option, 'IMP_VOL'] = imp_vol"
   ]
  },
  {
   "cell_type": "code",
   "execution_count": 44,
   "metadata": {
    "ExecuteTime": {
     "end_time": "2017-09-10T15:23:40.239572Z",
     "start_time": "2017-09-10T15:23:40.231407Z"
    },
    "scrolled": true
   },
   "outputs": [
    {
     "ename": "NameError",
     "evalue": "name 'end' is not defined",
     "output_type": "error",
     "traceback": [
      "\u001b[0;31m---------------------------------------------------------------------------\u001b[0m",
      "\u001b[0;31mNameError\u001b[0m                                 Traceback (most recent call last)",
      "\u001b[0;32m<ipython-input-44-55d585a4aabd>\u001b[0m in \u001b[0;36m<module>\u001b[0;34m()\u001b[0m\n\u001b[0;32m----> 1\u001b[0;31m \u001b[0mprint\u001b[0m\u001b[0;34m(\u001b[0m\u001b[0;34m\"123\"\u001b[0m\u001b[0;34m,\u001b[0m\u001b[0mend\u001b[0m \u001b[0;34m)\u001b[0m\u001b[0;34m\u001b[0m\u001b[0m\n\u001b[0m",
      "\u001b[0;31mNameError\u001b[0m: name 'end' is not defined"
     ]
    }
   ],
   "source": [
    "print(\"123\",end )"
   ]
  },
  {
   "cell_type": "code",
   "execution_count": 50,
   "metadata": {
    "ExecuteTime": {
     "end_time": "2017-09-10T15:51:01.087693Z",
     "start_time": "2017-09-10T15:51:01.083772Z"
    }
   },
   "outputs": [
    {
     "data": {
      "text/plain": [
       "7.8499988283269886"
      ]
     },
     "execution_count": 50,
     "metadata": {},
     "output_type": "execute_result"
    }
   ],
   "source": [
    "bsm_call_value(V0,10,0.049,r,1.80419)"
   ]
  },
  {
   "cell_type": "code",
   "execution_count": 49,
   "metadata": {
    "ExecuteTime": {
     "end_time": "2017-09-10T15:50:15.176210Z",
     "start_time": "2017-09-10T15:50:15.171411Z"
    }
   },
   "outputs": [
    {
     "data": {
      "text/plain": [
       "DATE         2014-03-30 19:00:00\n",
       "EXP_YEAR                    2014\n",
       "EXP_MONTH                      4\n",
       "TYPE                           C\n",
       "STRIKE                        10\n",
       "PRICE                       7.85\n",
       "MATURITY     2014-04-17 19:00:00\n",
       "TTM                        0.049\n",
       "IMP_VOL                  1.80419\n",
       "Name: 46179, dtype: object"
      ]
     },
     "execution_count": 49,
     "metadata": {},
     "output_type": "execute_result"
    }
   ],
   "source": [
    "options_data.loc[46179]"
   ]
  },
  {
   "cell_type": "code",
   "execution_count": null,
   "metadata": {
    "collapsed": true
   },
   "outputs": [],
   "source": []
  },
  {
   "cell_type": "code",
   "execution_count": 44,
   "metadata": {
    "ExecuteTime": {
     "end_time": "2017-09-10T15:23:40.239572Z",
     "start_time": "2017-09-10T15:23:40.231407Z"
    },
    "scrolled": true
   },
   "outputs": [
    {
     "ename": "NameError",
     "evalue": "name 'end' is not defined",
     "output_type": "error",
     "traceback": [
      "\u001b[0;31m---------------------------------------------------------------------------\u001b[0m",
      "\u001b[0;31mNameError\u001b[0m                                 Traceback (most recent call last)",
      "\u001b[0;32m<ipython-input-44-55d585a4aabd>\u001b[0m in \u001b[0;36m<module>\u001b[0;34m()\u001b[0m\n\u001b[0;32m----> 1\u001b[0;31m \u001b[0mprint\u001b[0m\u001b[0;34m(\u001b[0m\u001b[0;34m\"123\"\u001b[0m\u001b[0;34m,\u001b[0m\u001b[0mend\u001b[0m \u001b[0;34m)\u001b[0m\u001b[0;34m\u001b[0m\u001b[0m\n\u001b[0m",
      "\u001b[0;31mNameError\u001b[0m: name 'end' is not defined"
     ]
    }
   ],
   "source": [
    "print(\"123\",end )"
   ]
  },
  {
   "cell_type": "code",
   "execution_count": 52,
   "metadata": {
    "ExecuteTime": {
     "end_time": "2017-09-10T15:55:21.124383Z",
     "start_time": "2017-09-10T15:55:04.628116Z"
    },
    "collapsed": true,
    "uuid": "8da4e671-cbbc-44fd-8050-c8fe300a4501"
   },
   "outputs": [
    {
     "name": "stdout",
     "output_type": "stream",
     "text": [
      "2.08729534935\n",
      "2.08338847632\n",
      "2.08338847632\n",
      "DATE         2014-03-30 19:00:00\n",
      "EXP_YEAR                    2014\n",
      "EXP_MONTH                      4\n",
      "TYPE                           C\n",
      "STRIKE                         9\n",
      "PRICE                       8.85\n",
      "MATURITY     2014-04-17 19:00:00\n",
      "TTM                        0.049\n",
      "IMP_VOL                  2.08339\n",
      "Name: 46178, dtype: object\n",
      "\n",
      "1.82033493025\n",
      "1.80419281487\n",
      "1.80419281487\n",
      "DATE         2014-03-30 19:00:00\n",
      "EXP_YEAR                    2014\n",
      "EXP_MONTH                      4\n",
      "TYPE                           C\n",
      "STRIKE                        10\n",
      "PRICE                       7.85\n",
      "MATURITY     2014-04-17 19:00:00\n",
      "TTM                        0.049\n",
      "IMP_VOL                  1.80419\n",
      "Name: 46179, dtype: object\n",
      "\n",
      "1.61511091418\n",
      "1.55028304066\n",
      "1.55028304066\n",
      "DATE         2014-03-30 19:00:00\n",
      "EXP_YEAR                    2014\n",
      "EXP_MONTH                      4\n",
      "TYPE                           C\n",
      "STRIKE                        11\n",
      "PRICE                       6.85\n",
      "MATURITY     2014-04-17 19:00:00\n",
      "TTM                        0.049\n",
      "IMP_VOL                  1.55028\n",
      "Name: 46180, dtype: object\n",
      "\n",
      "1.4298934891\n",
      "1.31610324921\n",
      "1.31610324921\n",
      "DATE         2014-03-30 19:00:00\n",
      "EXP_YEAR                    2014\n",
      "EXP_MONTH                      4\n",
      "TYPE                           C\n",
      "STRIKE                        12\n",
      "PRICE                       5.85\n",
      "MATURITY     2014-04-17 19:00:00\n",
      "TTM                        0.049\n",
      "IMP_VOL                   1.3161\n",
      "Name: 46181, dtype: object\n",
      "\n",
      "1.24418463419\n",
      "1.09718391653\n",
      "1.09718391653\n",
      "DATE         2014-03-30 19:00:00\n",
      "EXP_YEAR                    2014\n",
      "EXP_MONTH                      4\n",
      "TYPE                           C\n",
      "STRIKE                        13\n",
      "PRICE                       4.85\n",
      "MATURITY     2014-04-17 19:00:00\n",
      "TTM                        0.049\n",
      "IMP_VOL                  1.09718\n",
      "Name: 46182, dtype: object\n",
      "\n",
      "1.0459310625\n",
      "0.889581050014\n",
      "0.889581050014\n",
      "DATE         2014-03-30 19:00:00\n",
      "EXP_YEAR                    2014\n",
      "EXP_MONTH                      4\n",
      "TYPE                           C\n",
      "STRIKE                        14\n",
      "PRICE                       3.85\n",
      "MATURITY     2014-04-17 19:00:00\n",
      "TTM                        0.049\n",
      "IMP_VOL                 0.889581\n",
      "Name: 46183, dtype: object\n",
      "\n",
      "0.86479326539\n",
      "0.748630322587\n",
      "0.748630322587\n",
      "DATE         2014-03-30 19:00:00\n",
      "EXP_YEAR                    2014\n",
      "EXP_MONTH                      4\n",
      "TYPE                           C\n",
      "STRIKE                        15\n",
      "PRICE                        2.9\n",
      "MATURITY     2014-04-17 19:00:00\n",
      "TTM                        0.049\n",
      "IMP_VOL                  0.74863\n",
      "Name: 46184, dtype: object\n",
      "\n",
      "0.685305473276\n",
      "0.630958005066\n",
      "0.630958005066\n",
      "DATE         2014-03-30 19:00:00\n",
      "EXP_YEAR                    2014\n",
      "EXP_MONTH                      4\n",
      "TYPE                           C\n",
      "STRIKE                        16\n",
      "PRICE                          2\n",
      "MATURITY     2014-04-17 19:00:00\n",
      "TTM                        0.049\n",
      "IMP_VOL                 0.630958\n",
      "Name: 46185, dtype: object\n",
      "\n",
      "0.632853019586\n",
      "0.639296777343\n",
      "0.639296777343\n",
      "DATE         2014-03-30 19:00:00\n",
      "EXP_YEAR                    2014\n",
      "EXP_MONTH                      4\n",
      "TYPE                           C\n",
      "STRIKE                        17\n",
      "PRICE                       1.35\n",
      "MATURITY     2014-04-17 19:00:00\n",
      "TTM                        0.049\n",
      "IMP_VOL                 0.639297\n",
      "Name: 46186, dtype: object\n",
      "\n",
      "0.689022789578\n",
      "0.703207621307\n",
      "0.703207621307\n",
      "DATE         2014-03-30 19:00:00\n",
      "EXP_YEAR                    2014\n",
      "EXP_MONTH                      4\n",
      "TYPE                           C\n",
      "STRIKE                        18\n",
      "PRICE                       0.95\n",
      "MATURITY     2014-04-17 19:00:00\n",
      "TTM                        0.049\n",
      "IMP_VOL                 0.703208\n",
      "Name: 46187, dtype: object\n",
      "\n",
      "0.786698209667\n",
      "0.775629222891\n",
      "0.775629222891\n",
      "DATE         2014-03-30 19:00:00\n",
      "EXP_YEAR                    2014\n",
      "EXP_MONTH                      4\n",
      "TYPE                           C\n",
      "STRIKE                        19\n",
      "PRICE                        0.7\n",
      "MATURITY     2014-04-17 19:00:00\n",
      "TTM                        0.049\n",
      "IMP_VOL                 0.775629\n",
      "Name: 46188, dtype: object\n",
      "\n",
      "0.86930387931\n",
      "0.818812661982\n",
      "0.818812661982\n",
      "DATE         2014-03-30 19:00:00\n",
      "EXP_YEAR                    2014\n",
      "EXP_MONTH                      4\n",
      "TYPE                           C\n",
      "STRIKE                        20\n",
      "PRICE                        0.5\n",
      "MATURITY     2014-04-17 19:00:00\n",
      "TTM                        0.049\n",
      "IMP_VOL                 0.818813\n",
      "Name: 46189, dtype: object\n",
      "\n",
      "0.977958671891\n",
      "0.892494442428\n",
      "0.892494442428\n",
      "DATE         2014-03-30 19:00:00\n",
      "EXP_YEAR                    2014\n",
      "EXP_MONTH                      4\n",
      "TYPE                           C\n",
      "STRIKE                        21\n",
      "PRICE                        0.4\n",
      "MATURITY     2014-04-17 19:00:00\n",
      "TTM                        0.049\n",
      "IMP_VOL                 0.892494\n",
      "Name: 46190, dtype: object\n",
      "\n",
      "1.08927624553\n",
      "0.981550912551\n",
      "0.981550912551\n",
      "DATE         2014-03-30 19:00:00\n",
      "EXP_YEAR                    2014\n",
      "EXP_MONTH                      4\n",
      "TYPE                           C\n",
      "STRIKE                        22\n",
      "PRICE                       0.35\n",
      "MATURITY     2014-04-17 19:00:00\n",
      "TTM                        0.049\n",
      "IMP_VOL                 0.981551\n",
      "Name: 46191, dtype: object\n",
      "\n",
      "1.14281330626\n",
      "0.995124077447\n",
      "0.995124077447\n",
      "DATE         2014-03-30 19:00:00\n",
      "EXP_YEAR                    2014\n",
      "EXP_MONTH                      4\n",
      "TYPE                           C\n",
      "STRIKE                        23\n",
      "PRICE                       0.25\n",
      "MATURITY     2014-04-17 19:00:00\n",
      "TTM                        0.049\n",
      "IMP_VOL                 0.995124\n",
      "Name: 46192, dtype: object\n",
      "\n",
      "1.24589384849\n",
      "1.10161325415\n",
      "1.10161325415\n",
      "DATE         2014-03-30 19:00:00\n",
      "EXP_YEAR                    2014\n",
      "EXP_MONTH                      4\n",
      "TYPE                           C\n",
      "STRIKE                        24\n",
      "PRICE                       0.25\n",
      "MATURITY     2014-04-17 19:00:00\n",
      "TTM                        0.049\n",
      "IMP_VOL                  1.10161\n",
      "Name: 46193, dtype: object\n",
      "\n",
      "1.29831635232\n",
      "1.13379542557\n",
      "1.13379542557\n",
      "DATE         2014-03-30 19:00:00\n",
      "EXP_YEAR                    2014\n",
      "EXP_MONTH                      4\n",
      "TYPE                           C\n",
      "STRIKE                        25\n",
      "PRICE                        0.2\n",
      "MATURITY     2014-04-17 19:00:00\n",
      "TTM                        0.049\n",
      "IMP_VOL                   1.1338\n",
      "Name: 46194, dtype: object\n",
      "\n",
      "1.33643330764\n",
      "1.14497717355\n",
      "1.14497717355\n",
      "DATE         2014-03-30 19:00:00\n",
      "EXP_YEAR                    2014\n",
      "EXP_MONTH                      4\n",
      "TYPE                           C\n",
      "STRIKE                        26\n",
      "PRICE                       0.15\n",
      "MATURITY     2014-04-17 19:00:00\n",
      "TTM                        0.049\n",
      "IMP_VOL                  1.14498\n",
      "Name: 46195, dtype: object\n",
      "\n",
      "2.61556427345\n",
      "2.58378341976\n",
      "2.58378341976\n",
      "DATE         2014-03-30 19:00:00\n",
      "EXP_YEAR                    2014\n",
      "EXP_MONTH                      5\n",
      "TYPE                           C\n",
      "STRIKE                        10\n",
      "PRICE                       9.55\n",
      "MATURITY     2014-05-15 19:00:00\n",
      "TTM                        0.126\n",
      "IMP_VOL                  2.58378\n",
      "Name: 46228, dtype: object\n",
      "\n",
      "2.29340688308\n",
      "2.28797149352\n",
      "2.28797149352\n",
      "DATE         2014-03-30 19:00:00\n",
      "EXP_YEAR                    2014\n",
      "EXP_MONTH                      5\n",
      "TYPE                           C\n",
      "STRIKE                        11\n",
      "PRICE                       8.55\n",
      "MATURITY     2014-05-15 19:00:00\n",
      "TTM                        0.126\n",
      "IMP_VOL                  2.28797\n",
      "Name: 46229, dtype: object\n",
      "\n",
      "2.01986271727\n",
      "2.01984605158\n",
      "2.01984605158\n",
      "DATE         2014-03-30 19:00:00\n",
      "EXP_YEAR                    2014\n",
      "EXP_MONTH                      5\n",
      "TYPE                           C\n",
      "STRIKE                        12\n",
      "PRICE                       7.55\n",
      "MATURITY     2014-05-15 19:00:00\n",
      "TTM                        0.126\n",
      "IMP_VOL                  2.01985\n",
      "Name: 46230, dtype: object\n",
      "\n",
      "1.77401272752\n",
      "1.77284479315\n",
      "1.77284479315\n",
      "DATE         2014-03-30 19:00:00\n",
      "EXP_YEAR                    2014\n",
      "EXP_MONTH                      5\n",
      "TYPE                           C\n",
      "STRIKE                        13\n",
      "PRICE                       6.55\n",
      "MATURITY     2014-05-15 19:00:00\n",
      "TTM                        0.126\n",
      "IMP_VOL                  1.77284\n",
      "Name: 46231, dtype: object\n",
      "\n",
      "1.54300479574\n",
      "1.54173718316\n",
      "1.54173718316\n",
      "DATE         2014-03-30 19:00:00\n",
      "EXP_YEAR                    2014\n",
      "EXP_MONTH                      5\n",
      "TYPE                           C\n",
      "STRIKE                        14\n",
      "PRICE                       5.55\n",
      "MATURITY     2014-05-15 19:00:00\n",
      "TTM                        0.126\n",
      "IMP_VOL                  1.54174\n",
      "Name: 46232, dtype: object\n",
      "\n",
      "1.31845480679\n",
      "1.32194809603\n",
      "1.32194809603\n",
      "DATE         2014-03-30 19:00:00\n",
      "EXP_YEAR                    2014\n",
      "EXP_MONTH                      5\n",
      "TYPE                           C\n",
      "STRIKE                        15\n",
      "PRICE                       4.55\n",
      "MATURITY     2014-05-15 19:00:00\n",
      "TTM                        0.126\n",
      "IMP_VOL                  1.32195\n",
      "Name: 46233, dtype: object\n",
      "\n"
     ]
    },
    {
     "name": "stdout",
     "output_type": "stream",
     "text": [
      "1.13979385675\n",
      "1.15312713366\n",
      "1.15312713366\n",
      "DATE         2014-03-30 19:00:00\n",
      "EXP_YEAR                    2014\n",
      "EXP_MONTH                      5\n",
      "TYPE                           C\n",
      "STRIKE                        16\n",
      "PRICE                       3.65\n",
      "MATURITY     2014-05-15 19:00:00\n",
      "TTM                        0.126\n",
      "IMP_VOL                  1.15313\n",
      "Name: 46234, dtype: object\n",
      "\n",
      "1.01941598423\n",
      "1.04266295264\n",
      "1.04266295264\n",
      "DATE         2014-03-30 19:00:00\n",
      "EXP_YEAR                    2014\n",
      "EXP_MONTH                      5\n",
      "TYPE                           C\n",
      "STRIKE                        17\n",
      "PRICE                        2.9\n",
      "MATURITY     2014-05-15 19:00:00\n",
      "TTM                        0.126\n",
      "IMP_VOL                  1.04266\n",
      "Name: 46235, dtype: object\n",
      "\n",
      "0.970782942393\n",
      "0.997287043898\n",
      "0.997287043898\n",
      "DATE         2014-03-30 19:00:00\n",
      "EXP_YEAR                    2014\n",
      "EXP_MONTH                      5\n",
      "TYPE                           C\n",
      "STRIKE                        18\n",
      "PRICE                       2.35\n",
      "MATURITY     2014-05-15 19:00:00\n",
      "TTM                        0.126\n",
      "IMP_VOL                 0.997287\n",
      "Name: 46236, dtype: object\n",
      "\n",
      "0.946987581474\n",
      "0.969407514859\n",
      "0.969407514859\n",
      "DATE         2014-03-30 19:00:00\n",
      "EXP_YEAR                    2014\n",
      "EXP_MONTH                      5\n",
      "TYPE                           C\n",
      "STRIKE                        19\n",
      "PRICE                        1.9\n",
      "MATURITY     2014-05-15 19:00:00\n",
      "TTM                        0.126\n",
      "IMP_VOL                 0.969408\n",
      "Name: 46237, dtype: object\n",
      "\n",
      "0.947539649357\n",
      "0.958881453637\n",
      "0.958881453637\n",
      "DATE         2014-03-30 19:00:00\n",
      "EXP_YEAR                    2014\n",
      "EXP_MONTH                      5\n",
      "TYPE                           C\n",
      "STRIKE                        20\n",
      "PRICE                       1.55\n",
      "MATURITY     2014-05-15 19:00:00\n",
      "TTM                        0.126\n",
      "IMP_VOL                 0.958881\n",
      "Name: 46238, dtype: object\n",
      "\n",
      "0.972819838153\n",
      "0.968535610972\n",
      "0.968535610972\n",
      "DATE         2014-03-30 19:00:00\n",
      "EXP_YEAR                    2014\n",
      "EXP_MONTH                      5\n",
      "TYPE                           C\n",
      "STRIKE                        21\n",
      "PRICE                        1.3\n",
      "MATURITY     2014-05-15 19:00:00\n",
      "TTM                        0.126\n",
      "IMP_VOL                 0.968536\n",
      "Name: 46239, dtype: object\n",
      "\n",
      "1.00385902645\n",
      "0.981695774409\n",
      "0.981695774409\n",
      "DATE         2014-03-30 19:00:00\n",
      "EXP_YEAR                    2014\n",
      "EXP_MONTH                      5\n",
      "TYPE                           C\n",
      "STRIKE                        22\n",
      "PRICE                        1.1\n",
      "MATURITY     2014-05-15 19:00:00\n",
      "TTM                        0.126\n",
      "IMP_VOL                 0.981696\n",
      "Name: 46240, dtype: object\n",
      "\n",
      "1.04228865476\n",
      "1.00214715338\n",
      "1.00214715338\n",
      "DATE         2014-03-30 19:00:00\n",
      "EXP_YEAR                    2014\n",
      "EXP_MONTH                      5\n",
      "TYPE                           C\n",
      "STRIKE                        23\n",
      "PRICE                       0.95\n",
      "MATURITY     2014-05-15 19:00:00\n",
      "TTM                        0.126\n",
      "IMP_VOL                  1.00215\n",
      "Name: 46241, dtype: object\n",
      "\n",
      "1.06969106753\n",
      "1.00934127188\n",
      "1.00934127188\n",
      "DATE         2014-03-30 19:00:00\n",
      "EXP_YEAR                    2014\n",
      "EXP_MONTH                      5\n",
      "TYPE                           C\n",
      "STRIKE                        24\n",
      "PRICE                        0.8\n",
      "MATURITY     2014-05-15 19:00:00\n",
      "TTM                        0.126\n",
      "IMP_VOL                  1.00934\n",
      "Name: 46242, dtype: object\n",
      "\n",
      "1.1075251521\n",
      "1.02993122944\n",
      "1.02993122944\n",
      "DATE         2014-03-30 19:00:00\n",
      "EXP_YEAR                    2014\n",
      "EXP_MONTH                      5\n",
      "TYPE                           C\n",
      "STRIKE                        25\n",
      "PRICE                        0.7\n",
      "MATURITY     2014-05-15 19:00:00\n",
      "TTM                        0.126\n",
      "IMP_VOL                  1.02993\n",
      "Name: 46243, dtype: object\n",
      "\n",
      "1.13697182597\n",
      "1.04055156929\n",
      "1.04055156929\n",
      "DATE         2014-03-30 19:00:00\n",
      "EXP_YEAR                    2014\n",
      "EXP_MONTH                      5\n",
      "TYPE                           C\n",
      "STRIKE                        26\n",
      "PRICE                        0.6\n",
      "MATURITY     2014-05-15 19:00:00\n",
      "TTM                        0.126\n",
      "IMP_VOL                  1.04055\n",
      "Name: 46244, dtype: object\n",
      "\n",
      "1.15894622873\n",
      "1.04078607627\n",
      "1.04078607627\n",
      "DATE         2014-03-30 19:00:00\n",
      "EXP_YEAR                    2014\n",
      "EXP_MONTH                      5\n",
      "TYPE                           C\n",
      "STRIKE                        27\n",
      "PRICE                        0.5\n",
      "MATURITY     2014-05-15 19:00:00\n",
      "TTM                        0.126\n",
      "IMP_VOL                  1.04079\n",
      "Name: 46245, dtype: object\n",
      "\n",
      "1.19502504195\n",
      "1.0641156134\n",
      "1.0641156134\n",
      "DATE         2014-03-30 19:00:00\n",
      "EXP_YEAR                    2014\n",
      "EXP_MONTH                      5\n",
      "TYPE                           C\n",
      "STRIKE                        28\n",
      "PRICE                       0.45\n",
      "MATURITY     2014-05-15 19:00:00\n",
      "TTM                        0.126\n",
      "IMP_VOL                  1.06412\n",
      "Name: 46246, dtype: object\n",
      "\n",
      "1.22556650303\n",
      "1.08129323372\n",
      "1.08129323372\n",
      "DATE         2014-03-30 19:00:00\n",
      "EXP_YEAR                    2014\n",
      "EXP_MONTH                      5\n",
      "TYPE                           C\n",
      "STRIKE                        29\n",
      "PRICE                        0.4\n",
      "MATURITY     2014-05-15 19:00:00\n",
      "TTM                        0.126\n",
      "IMP_VOL                  1.08129\n",
      "Name: 46247, dtype: object\n",
      "\n",
      "2.15897032337\n",
      "2.15826345007\n",
      "2.15826345007\n",
      "DATE         2014-03-30 19:00:00\n",
      "EXP_YEAR                    2014\n",
      "EXP_MONTH                      6\n",
      "TYPE                           C\n",
      "STRIKE                        10\n",
      "PRICE                       9.95\n",
      "MATURITY     2014-06-19 19:00:00\n",
      "TTM                        0.222\n",
      "IMP_VOL                  2.15826\n",
      "Name: 46277, dtype: object\n",
      "\n",
      "1.91636453573\n",
      "1.9162818438\n",
      "1.9162818438\n",
      "DATE         2014-03-30 19:00:00\n",
      "EXP_YEAR                    2014\n",
      "EXP_MONTH                      6\n",
      "TYPE                           C\n",
      "STRIKE                        11\n",
      "PRICE                       8.95\n",
      "MATURITY     2014-06-19 19:00:00\n",
      "TTM                        0.222\n",
      "IMP_VOL                  1.91628\n",
      "Name: 46278, dtype: object\n",
      "\n",
      "1.6979022762\n",
      "1.69813717795\n",
      "1.69813717795\n",
      "DATE         2014-03-30 19:00:00\n",
      "EXP_YEAR                    2014\n",
      "EXP_MONTH                      6\n",
      "TYPE                           C\n",
      "STRIKE                        12\n",
      "PRICE                       7.95\n",
      "MATURITY     2014-06-19 19:00:00\n",
      "TTM                        0.222\n",
      "IMP_VOL                  1.69814\n",
      "Name: 46279, dtype: object\n",
      "\n",
      "1.49436440036\n",
      "1.49816355076\n",
      "1.49816355076\n",
      "DATE         2014-03-30 19:00:00\n",
      "EXP_YEAR                    2014\n",
      "EXP_MONTH                      6\n",
      "TYPE                           C\n",
      "STRIKE                        13\n",
      "PRICE                       6.95\n",
      "MATURITY     2014-06-19 19:00:00\n",
      "TTM                        0.222\n",
      "IMP_VOL                  1.49816\n",
      "Name: 46280, dtype: object\n",
      "\n",
      "1.29975665465\n",
      "1.31195295905\n",
      "1.31195295905\n",
      "DATE         2014-03-30 19:00:00\n",
      "EXP_YEAR                    2014\n",
      "EXP_MONTH                      6\n",
      "TYPE                           C\n",
      "STRIKE                        14\n",
      "PRICE                       5.95\n",
      "MATURITY     2014-06-19 19:00:00\n",
      "TTM                        0.222\n",
      "IMP_VOL                  1.31195\n",
      "Name: 46281, dtype: object\n",
      "\n",
      "1.12857427992\n",
      "1.15356424306\n",
      "1.15356424306\n",
      "DATE         2014-03-30 19:00:00\n",
      "EXP_YEAR                    2014\n",
      "EXP_MONTH                      6\n",
      "TYPE                           C\n",
      "STRIKE                        15\n",
      "PRICE                          5\n",
      "MATURITY     2014-06-19 19:00:00\n",
      "TTM                        0.222\n",
      "IMP_VOL                  1.15356\n",
      "Name: 46282, dtype: object\n",
      "\n",
      "0.993459959509\n",
      "1.03275532336\n",
      "1.03275532336\n",
      "DATE         2014-03-30 19:00:00\n",
      "EXP_YEAR                    2014\n",
      "EXP_MONTH                      6\n",
      "TYPE                           C\n",
      "STRIKE                        16\n",
      "PRICE                       4.15\n",
      "MATURITY     2014-06-19 19:00:00\n",
      "TTM                        0.222\n",
      "IMP_VOL                  1.03276\n",
      "Name: 46283, dtype: object\n",
      "\n",
      "0.889073980562\n",
      "0.940779511091\n",
      "0.940779511091\n",
      "DATE         2014-03-30 19:00:00\n",
      "EXP_YEAR                    2014\n",
      "EXP_MONTH                      6\n",
      "TYPE                           C\n",
      "STRIKE                        17\n",
      "PRICE                        3.4\n",
      "MATURITY     2014-06-19 19:00:00\n",
      "TTM                        0.222\n",
      "IMP_VOL                  0.94078\n",
      "Name: 46284, dtype: object\n",
      "\n",
      "0.828575793146\n",
      "0.886234845384\n",
      "0.886234845384\n",
      "DATE         2014-03-30 19:00:00\n",
      "EXP_YEAR                    2014\n",
      "EXP_MONTH                      6\n",
      "TYPE                           C\n",
      "STRIKE                        18\n",
      "PRICE                        2.8\n",
      "MATURITY     2014-06-19 19:00:00\n",
      "TTM                        0.222\n",
      "IMP_VOL                 0.886235\n",
      "Name: 46285, dtype: object\n",
      "\n",
      "0.808462482826\n"
     ]
    },
    {
     "name": "stdout",
     "output_type": "stream",
     "text": [
      "0.863944356573\n",
      "0.863944356573\n",
      "DATE         2014-03-30 19:00:00\n",
      "EXP_YEAR                    2014\n",
      "EXP_MONTH                      6\n",
      "TYPE                           C\n",
      "STRIKE                        19\n",
      "PRICE                       2.35\n",
      "MATURITY     2014-06-19 19:00:00\n",
      "TTM                        0.222\n",
      "IMP_VOL                 0.863944\n",
      "Name: 46286, dtype: object\n",
      "\n",
      "0.810600547861\n",
      "0.857610911927\n",
      "0.857610911927\n",
      "DATE         2014-03-30 19:00:00\n",
      "EXP_YEAR                    2014\n",
      "EXP_MONTH                      6\n",
      "TYPE                           C\n",
      "STRIKE                        20\n",
      "PRICE                          2\n",
      "MATURITY     2014-06-19 19:00:00\n",
      "TTM                        0.222\n",
      "IMP_VOL                 0.857611\n",
      "Name: 46287, dtype: object\n",
      "\n",
      "0.818852375439\n",
      "0.853161741531\n",
      "0.853161741531\n",
      "DATE         2014-03-30 19:00:00\n",
      "EXP_YEAR                    2014\n",
      "EXP_MONTH                      6\n",
      "TYPE                           C\n",
      "STRIKE                        21\n",
      "PRICE                        1.7\n",
      "MATURITY     2014-06-19 19:00:00\n",
      "TTM                        0.222\n",
      "IMP_VOL                 0.853162\n",
      "Name: 46288, dtype: object\n",
      "\n",
      "0.833779959779\n",
      "0.852049392056\n",
      "0.852049392056\n",
      "DATE         2014-03-30 19:00:00\n",
      "EXP_YEAR                    2014\n",
      "EXP_MONTH                      6\n",
      "TYPE                           C\n",
      "STRIKE                        22\n",
      "PRICE                       1.45\n",
      "MATURITY     2014-06-19 19:00:00\n",
      "TTM                        0.222\n",
      "IMP_VOL                 0.852049\n",
      "Name: 46289, dtype: object\n",
      "\n",
      "0.855956477609\n",
      "0.856096209961\n",
      "0.856096209961\n",
      "DATE         2014-03-30 19:00:00\n",
      "EXP_YEAR                    2014\n",
      "EXP_MONTH                      6\n",
      "TYPE                           C\n",
      "STRIKE                        23\n",
      "PRICE                       1.25\n",
      "MATURITY     2014-06-19 19:00:00\n",
      "TTM                        0.222\n",
      "IMP_VOL                 0.856096\n",
      "Name: 46290, dtype: object\n",
      "\n",
      "0.870742414381\n",
      "0.850040412058\n",
      "0.850040412058\n",
      "DATE         2014-03-30 19:00:00\n",
      "EXP_YEAR                    2014\n",
      "EXP_MONTH                      6\n",
      "TYPE                           C\n",
      "STRIKE                        24\n",
      "PRICE                       1.05\n",
      "MATURITY     2014-06-19 19:00:00\n",
      "TTM                        0.222\n",
      "IMP_VOL                  0.85004\n",
      "Name: 46291, dtype: object\n",
      "\n",
      "0.909271715017\n",
      "0.870737230422\n",
      "0.870737230422\n",
      "DATE         2014-03-30 19:00:00\n",
      "EXP_YEAR                    2014\n",
      "EXP_MONTH                      6\n",
      "TYPE                           C\n",
      "STRIKE                        25\n",
      "PRICE                       0.95\n",
      "MATURITY     2014-06-19 19:00:00\n",
      "TTM                        0.222\n",
      "IMP_VOL                 0.870737\n",
      "Name: 46292, dtype: object\n",
      "\n",
      "0.926642032196\n",
      "0.865471996987\n",
      "0.865471996987\n",
      "DATE         2014-03-30 19:00:00\n",
      "EXP_YEAR                    2014\n",
      "EXP_MONTH                      6\n",
      "TYPE                           C\n",
      "STRIKE                        26\n",
      "PRICE                        0.8\n",
      "MATURITY     2014-06-19 19:00:00\n",
      "TTM                        0.222\n",
      "IMP_VOL                 0.865472\n",
      "Name: 46293, dtype: object\n",
      "\n",
      "0.953771166025\n",
      "0.872361566201\n",
      "0.872361566201\n",
      "DATE         2014-03-30 19:00:00\n",
      "EXP_YEAR                    2014\n",
      "EXP_MONTH                      6\n",
      "TYPE                           C\n",
      "STRIKE                        27\n",
      "PRICE                        0.7\n",
      "MATURITY     2014-06-19 19:00:00\n",
      "TTM                        0.222\n",
      "IMP_VOL                 0.872362\n",
      "Name: 46294, dtype: object\n",
      "\n",
      "0.976106685136\n",
      "0.87266280728\n",
      "0.87266280728\n",
      "DATE         2014-03-30 19:00:00\n",
      "EXP_YEAR                    2014\n",
      "EXP_MONTH                      6\n",
      "TYPE                           C\n",
      "STRIKE                        28\n",
      "PRICE                        0.6\n",
      "MATURITY     2014-06-19 19:00:00\n",
      "TTM                        0.222\n",
      "IMP_VOL                 0.872663\n",
      "Name: 46295, dtype: object\n",
      "\n",
      "1.00921685181\n",
      "0.890314280096\n",
      "0.890314280096\n",
      "DATE         2014-03-30 19:00:00\n",
      "EXP_YEAR                    2014\n",
      "EXP_MONTH                      6\n",
      "TYPE                           C\n",
      "STRIKE                        29\n",
      "PRICE                       0.55\n",
      "MATURITY     2014-06-19 19:00:00\n",
      "TTM                        0.222\n",
      "IMP_VOL                 0.890314\n",
      "Name: 46296, dtype: object\n",
      "\n",
      "1.83700117281\n",
      "1.83755766392\n",
      "1.83755766392\n",
      "DATE         2014-03-30 19:00:00\n",
      "EXP_YEAR                    2014\n",
      "EXP_MONTH                      7\n",
      "TYPE                           C\n",
      "STRIKE                        11\n",
      "PRICE                        9.4\n",
      "MATURITY     2014-07-17 19:00:00\n",
      "TTM                        0.299\n",
      "IMP_VOL                  1.83756\n",
      "Name: 46327, dtype: object\n",
      "\n",
      "1.6297199182\n",
      "1.63395046096\n",
      "1.63395046096\n",
      "DATE         2014-03-30 19:00:00\n",
      "EXP_YEAR                    2014\n",
      "EXP_MONTH                      7\n",
      "TYPE                           C\n",
      "STRIKE                        12\n",
      "PRICE                        8.4\n",
      "MATURITY     2014-07-17 19:00:00\n",
      "TTM                        0.299\n",
      "IMP_VOL                  1.63395\n",
      "Name: 46328, dtype: object\n",
      "\n",
      "1.43596266072\n",
      "1.44836825535\n",
      "1.44836825535\n",
      "DATE         2014-03-30 19:00:00\n",
      "EXP_YEAR                    2014\n",
      "EXP_MONTH                      7\n",
      "TYPE                           C\n",
      "STRIKE                        13\n",
      "PRICE                        7.4\n",
      "MATURITY     2014-07-17 19:00:00\n",
      "TTM                        0.299\n",
      "IMP_VOL                  1.44837\n",
      "Name: 46329, dtype: object\n",
      "\n",
      "1.26840338459\n",
      "1.29291941888\n",
      "1.29291941888\n",
      "DATE         2014-03-30 19:00:00\n",
      "EXP_YEAR                    2014\n",
      "EXP_MONTH                      7\n",
      "TYPE                           C\n",
      "STRIKE                        14\n",
      "PRICE                       6.45\n",
      "MATURITY     2014-07-17 19:00:00\n",
      "TTM                        0.299\n",
      "IMP_VOL                  1.29292\n",
      "Name: 46330, dtype: object\n",
      "\n",
      "1.10490593783\n",
      "1.14548579473\n",
      "1.14548579473\n",
      "DATE         2014-03-30 19:00:00\n",
      "EXP_YEAR                    2014\n",
      "EXP_MONTH                      7\n",
      "TYPE                           C\n",
      "STRIKE                        15\n",
      "PRICE                        5.5\n",
      "MATURITY     2014-07-17 19:00:00\n",
      "TTM                        0.299\n",
      "IMP_VOL                  1.14549\n",
      "Name: 46331, dtype: object\n",
      "\n",
      "0.9754415966\n",
      "1.03221956484\n",
      "1.03221956484\n",
      "DATE         2014-03-30 19:00:00\n",
      "EXP_YEAR                    2014\n",
      "EXP_MONTH                      7\n",
      "TYPE                           C\n",
      "STRIKE                        16\n",
      "PRICE                       4.65\n",
      "MATURITY     2014-07-17 19:00:00\n",
      "TTM                        0.299\n",
      "IMP_VOL                  1.03222\n",
      "Name: 46332, dtype: object\n",
      "\n",
      "0.890832745025\n",
      "0.959641836728\n",
      "0.959641836728\n",
      "DATE         2014-03-30 19:00:00\n",
      "EXP_YEAR                    2014\n",
      "EXP_MONTH                      7\n",
      "TYPE                           C\n",
      "STRIKE                        17\n",
      "PRICE                       3.95\n",
      "MATURITY     2014-07-17 19:00:00\n",
      "TTM                        0.299\n",
      "IMP_VOL                 0.959642\n",
      "Name: 46333, dtype: object\n",
      "\n",
      "0.816681010243\n",
      "0.894343812997\n",
      "0.894343812997\n",
      "DATE         2014-03-30 19:00:00\n",
      "EXP_YEAR                    2014\n",
      "EXP_MONTH                      7\n",
      "TYPE                           C\n",
      "STRIKE                        18\n",
      "PRICE                        3.3\n",
      "MATURITY     2014-07-17 19:00:00\n",
      "TTM                        0.299\n",
      "IMP_VOL                 0.894344\n",
      "Name: 46334, dtype: object\n",
      "\n",
      "0.795861773827\n",
      "0.87312772821\n",
      "0.87312772821\n",
      "DATE         2014-03-30 19:00:00\n",
      "EXP_YEAR                    2014\n",
      "EXP_MONTH                      7\n",
      "TYPE                           C\n",
      "STRIKE                        19\n",
      "PRICE                       2.85\n",
      "MATURITY     2014-07-17 19:00:00\n",
      "TTM                        0.299\n",
      "IMP_VOL                 0.873128\n",
      "Name: 46335, dtype: object\n",
      "\n",
      "0.767918245723\n",
      "0.841792325378\n",
      "0.841792325378\n",
      "DATE         2014-03-30 19:00:00\n",
      "EXP_YEAR                    2014\n",
      "EXP_MONTH                      7\n",
      "TYPE                           C\n",
      "STRIKE                        20\n",
      "PRICE                        2.4\n",
      "MATURITY     2014-07-17 19:00:00\n",
      "TTM                        0.299\n",
      "IMP_VOL                 0.841792\n",
      "Name: 46336, dtype: object\n",
      "\n",
      "0.775734268507\n",
      "0.839546204315\n",
      "0.839546204315\n",
      "DATE         2014-03-30 19:00:00\n",
      "EXP_YEAR                    2014\n",
      "EXP_MONTH                      7\n",
      "TYPE                           C\n",
      "STRIKE                        21\n",
      "PRICE                        2.1\n",
      "MATURITY     2014-07-17 19:00:00\n",
      "TTM                        0.299\n",
      "IMP_VOL                 0.839546\n",
      "Name: 46337, dtype: object\n",
      "\n",
      "0.776637738242\n",
      "0.828005614489\n",
      "0.828005614489\n",
      "DATE         2014-03-30 19:00:00\n",
      "EXP_YEAR                    2014\n",
      "EXP_MONTH                      7\n",
      "TYPE                           C\n",
      "STRIKE                        22\n",
      "PRICE                        1.8\n",
      "MATURITY     2014-07-17 19:00:00\n",
      "TTM                        0.299\n",
      "IMP_VOL                 0.828006\n",
      "Name: 46338, dtype: object\n",
      "\n",
      "0.7850820926\n"
     ]
    },
    {
     "name": "stdout",
     "output_type": "stream",
     "text": [
      "0.82104963152\n",
      "0.82104963152\n",
      "DATE         2014-03-30 19:00:00\n",
      "EXP_YEAR                    2014\n",
      "EXP_MONTH                      7\n",
      "TYPE                           C\n",
      "STRIKE                        23\n",
      "PRICE                       1.55\n",
      "MATURITY     2014-07-17 19:00:00\n",
      "TTM                        0.299\n",
      "IMP_VOL                  0.82105\n",
      "Name: 46339, dtype: object\n",
      "\n",
      "0.814743514154\n",
      "0.834280250973\n",
      "0.834280250973\n",
      "DATE         2014-03-30 19:00:00\n",
      "EXP_YEAR                    2014\n",
      "EXP_MONTH                      7\n",
      "TYPE                           C\n",
      "STRIKE                        24\n",
      "PRICE                        1.4\n",
      "MATURITY     2014-07-17 19:00:00\n",
      "TTM                        0.299\n",
      "IMP_VOL                  0.83428\n",
      "Name: 46340, dtype: object\n",
      "\n",
      "0.825508828637\n",
      "0.826374462616\n",
      "0.826374462616\n",
      "DATE         2014-03-30 19:00:00\n",
      "EXP_YEAR                    2014\n",
      "EXP_MONTH                      7\n",
      "TYPE                           C\n",
      "STRIKE                        25\n",
      "PRICE                        1.2\n",
      "MATURITY     2014-07-17 19:00:00\n",
      "TTM                        0.299\n",
      "IMP_VOL                 0.826374\n",
      "Name: 46341, dtype: object\n",
      "\n",
      "0.844791443712\n",
      "0.826604567219\n",
      "0.826604567219\n",
      "DATE         2014-03-30 19:00:00\n",
      "EXP_YEAR                    2014\n",
      "EXP_MONTH                      7\n",
      "TYPE                           C\n",
      "STRIKE                        26\n",
      "PRICE                       1.05\n",
      "MATURITY     2014-07-17 19:00:00\n",
      "TTM                        0.299\n",
      "IMP_VOL                 0.826605\n",
      "Name: 46342, dtype: object\n",
      "\n",
      "0.872824405673\n",
      "0.837121839236\n",
      "0.837121839236\n",
      "DATE         2014-03-30 19:00:00\n",
      "EXP_YEAR                    2014\n",
      "EXP_MONTH                      7\n",
      "TYPE                           C\n",
      "STRIKE                        27\n",
      "PRICE                       0.95\n",
      "MATURITY     2014-07-17 19:00:00\n",
      "TTM                        0.299\n",
      "IMP_VOL                 0.837122\n",
      "Name: 46343, dtype: object\n",
      "\n",
      "0.896785643902\n",
      "0.842998658836\n",
      "0.842998658836\n",
      "DATE         2014-03-30 19:00:00\n",
      "EXP_YEAR                    2014\n",
      "EXP_MONTH                      7\n",
      "TYPE                           C\n",
      "STRIKE                        28\n",
      "PRICE                       0.85\n",
      "MATURITY     2014-07-17 19:00:00\n",
      "TTM                        0.299\n",
      "IMP_VOL                 0.842999\n",
      "Name: 46344, dtype: object\n",
      "\n",
      "0.917101209579\n",
      "0.844206890153\n",
      "0.844206890153\n",
      "DATE         2014-03-30 19:00:00\n",
      "EXP_YEAR                    2014\n",
      "EXP_MONTH                      7\n",
      "TYPE                           C\n",
      "STRIKE                        29\n",
      "PRICE                       0.75\n",
      "MATURITY     2014-07-17 19:00:00\n",
      "TTM                        0.299\n",
      "IMP_VOL                 0.844207\n",
      "Name: 46345, dtype: object\n",
      "\n",
      "0.947134540657\n",
      "0.85999731955\n",
      "0.85999731955\n",
      "DATE         2014-03-30 19:00:00\n",
      "EXP_YEAR                    2014\n",
      "EXP_MONTH                      7\n",
      "TYPE                           C\n",
      "STRIKE                        30\n",
      "PRICE                        0.7\n",
      "MATURITY     2014-07-17 19:00:00\n",
      "TTM                        0.299\n",
      "IMP_VOL                 0.859997\n",
      "Name: 46346, dtype: object\n",
      "\n",
      "1.74867759008\n",
      "1.7515686207\n",
      "1.7515686207\n",
      "DATE         2014-03-30 19:00:00\n",
      "EXP_YEAR                    2014\n",
      "EXP_MONTH                      8\n",
      "TYPE                           C\n",
      "STRIKE                        11\n",
      "PRICE                        9.7\n",
      "MATURITY     2014-08-14 19:00:00\n",
      "TTM                        0.375\n",
      "IMP_VOL                  1.75157\n",
      "Name: 46376, dtype: object\n",
      "\n",
      "1.54961836105\n",
      "1.56028079616\n",
      "1.56028079616\n",
      "DATE         2014-03-30 19:00:00\n",
      "EXP_YEAR                    2014\n",
      "EXP_MONTH                      8\n",
      "TYPE                           C\n",
      "STRIKE                        12\n",
      "PRICE                        8.7\n",
      "MATURITY     2014-08-14 19:00:00\n",
      "TTM                        0.375\n",
      "IMP_VOL                  1.56028\n",
      "Name: 46377, dtype: object\n",
      "\n",
      "1.36312339551\n",
      "1.38662387845\n",
      "1.38662387845\n",
      "DATE         2014-03-30 19:00:00\n",
      "EXP_YEAR                    2014\n",
      "EXP_MONTH                      8\n",
      "TYPE                           C\n",
      "STRIKE                        13\n",
      "PRICE                        7.7\n",
      "MATURITY     2014-08-14 19:00:00\n",
      "TTM                        0.375\n",
      "IMP_VOL                  1.38662\n",
      "Name: 46378, dtype: object\n",
      "\n",
      "1.20131647162\n",
      "1.24110013679\n",
      "1.24110013679\n",
      "DATE         2014-03-30 19:00:00\n",
      "EXP_YEAR                    2014\n",
      "EXP_MONTH                      8\n",
      "TYPE                           C\n",
      "STRIKE                        14\n",
      "PRICE                       6.75\n",
      "MATURITY     2014-08-14 19:00:00\n",
      "TTM                        0.375\n",
      "IMP_VOL                   1.2411\n",
      "Name: 46379, dtype: object\n",
      "\n",
      "1.0594144602\n",
      "1.11747362069\n",
      "1.11747362069\n",
      "DATE         2014-03-30 19:00:00\n",
      "EXP_YEAR                    2014\n",
      "EXP_MONTH                      8\n",
      "TYPE                           C\n",
      "STRIKE                        15\n",
      "PRICE                       5.85\n",
      "MATURITY     2014-08-14 19:00:00\n",
      "TTM                        0.375\n",
      "IMP_VOL                  1.11747\n",
      "Name: 46380, dtype: object\n",
      "\n",
      "0.948842702179\n",
      "1.02379995384\n",
      "1.02379995384\n",
      "DATE         2014-03-30 19:00:00\n",
      "EXP_YEAR                    2014\n",
      "EXP_MONTH                      8\n",
      "TYPE                           C\n",
      "STRIKE                        16\n",
      "PRICE                       5.05\n",
      "MATURITY     2014-08-14 19:00:00\n",
      "TTM                        0.375\n",
      "IMP_VOL                   1.0238\n",
      "Name: 46381, dtype: object\n",
      "\n",
      "0.865778133321\n",
      "0.954200772048\n",
      "0.954200772048\n",
      "DATE         2014-03-30 19:00:00\n",
      "EXP_YEAR                    2014\n",
      "EXP_MONTH                      8\n",
      "TYPE                           C\n",
      "STRIKE                        17\n",
      "PRICE                       4.35\n",
      "MATURITY     2014-08-14 19:00:00\n",
      "TTM                        0.375\n",
      "IMP_VOL                 0.954201\n",
      "Name: 46382, dtype: object\n",
      "\n",
      "0.793626593907\n",
      "0.892496980935\n",
      "0.892496980935\n",
      "DATE         2014-03-30 19:00:00\n",
      "EXP_YEAR                    2014\n",
      "EXP_MONTH                      8\n",
      "TYPE                           C\n",
      "STRIKE                        18\n",
      "PRICE                        3.7\n",
      "MATURITY     2014-08-14 19:00:00\n",
      "TTM                        0.375\n",
      "IMP_VOL                 0.892497\n",
      "Name: 46383, dtype: object\n",
      "\n",
      "0.758533932818\n",
      "0.860102924201\n",
      "0.860102924201\n",
      "DATE         2014-03-30 19:00:00\n",
      "EXP_YEAR                    2014\n",
      "EXP_MONTH                      8\n",
      "TYPE                           C\n",
      "STRIKE                        19\n",
      "PRICE                        3.2\n",
      "MATURITY     2014-08-14 19:00:00\n",
      "TTM                        0.375\n",
      "IMP_VOL                 0.860103\n",
      "Name: 46384, dtype: object\n",
      "\n",
      "0.744837745339\n",
      "0.843279510808\n",
      "0.843279510808\n",
      "DATE         2014-03-30 19:00:00\n",
      "EXP_YEAR                    2014\n",
      "EXP_MONTH                      8\n",
      "TYPE                           C\n",
      "STRIKE                        20\n",
      "PRICE                        2.8\n",
      "MATURITY     2014-08-14 19:00:00\n",
      "TTM                        0.375\n",
      "IMP_VOL                  0.84328\n",
      "Name: 46385, dtype: object\n",
      "\n",
      "0.738598443535\n",
      "0.830238084973\n",
      "0.830238084973\n",
      "DATE         2014-03-30 19:00:00\n",
      "EXP_YEAR                    2014\n",
      "EXP_MONTH                      8\n",
      "TYPE                           C\n",
      "STRIKE                        21\n",
      "PRICE                       2.45\n",
      "MATURITY     2014-08-14 19:00:00\n",
      "TTM                        0.375\n",
      "IMP_VOL                 0.830238\n",
      "Name: 46386, dtype: object\n",
      "\n",
      "0.739812285505\n",
      "0.821388760745\n",
      "0.821388760745\n",
      "DATE         2014-03-30 19:00:00\n",
      "EXP_YEAR                    2014\n",
      "EXP_MONTH                      8\n",
      "TYPE                           C\n",
      "STRIKE                        22\n",
      "PRICE                       2.15\n",
      "MATURITY     2014-08-14 19:00:00\n",
      "TTM                        0.375\n",
      "IMP_VOL                 0.821389\n",
      "Name: 46387, dtype: object\n",
      "\n",
      "0.748524331111\n",
      "0.81740817917\n",
      "0.81740817917\n",
      "DATE         2014-03-30 19:00:00\n",
      "EXP_YEAR                    2014\n",
      "EXP_MONTH                      8\n",
      "TYPE                           C\n",
      "STRIKE                        23\n",
      "PRICE                        1.9\n",
      "MATURITY     2014-08-14 19:00:00\n",
      "TTM                        0.375\n",
      "IMP_VOL                 0.817408\n",
      "Name: 46388, dtype: object\n",
      "\n",
      "0.764817643609\n",
      "0.819236845332\n",
      "0.819236845332\n",
      "DATE         2014-03-30 19:00:00\n",
      "EXP_YEAR                    2014\n",
      "EXP_MONTH                      8\n",
      "TYPE                           C\n",
      "STRIKE                        24\n",
      "PRICE                        1.7\n",
      "MATURITY     2014-08-14 19:00:00\n",
      "TTM                        0.375\n",
      "IMP_VOL                 0.819237\n",
      "Name: 46389, dtype: object\n",
      "\n",
      "0.776562952489\n",
      "0.815331046853\n",
      "0.815331046853\n",
      "DATE         2014-03-30 19:00:00\n",
      "EXP_YEAR                    2014\n",
      "EXP_MONTH                      8\n",
      "TYPE                           C\n",
      "STRIKE                        25\n",
      "PRICE                        1.5\n",
      "MATURITY     2014-08-14 19:00:00\n",
      "TTM                        0.375\n",
      "IMP_VOL                 0.815331\n",
      "Name: 46390, dtype: object\n",
      "\n",
      "0.796386350001\n"
     ]
    },
    {
     "name": "stdout",
     "output_type": "stream",
     "text": [
      "0.818940290344\n",
      "0.818940290344\n",
      "DATE         2014-03-30 19:00:00\n",
      "EXP_YEAR                    2014\n",
      "EXP_MONTH                      8\n",
      "TYPE                           C\n",
      "STRIKE                        26\n",
      "PRICE                       1.35\n",
      "MATURITY     2014-08-14 19:00:00\n",
      "TTM                        0.375\n",
      "IMP_VOL                  0.81894\n",
      "Name: 46391, dtype: object\n",
      "\n",
      "0.812379040526\n",
      "0.817814400708\n",
      "0.817814400708\n",
      "DATE         2014-03-30 19:00:00\n",
      "EXP_YEAR                    2014\n",
      "EXP_MONTH                      8\n",
      "TYPE                           C\n",
      "STRIKE                        27\n",
      "PRICE                        1.2\n",
      "MATURITY     2014-08-14 19:00:00\n",
      "TTM                        0.375\n",
      "IMP_VOL                 0.817814\n",
      "Name: 46392, dtype: object\n",
      "\n",
      "0.836864206554\n",
      "0.826291497109\n",
      "0.826291497109\n",
      "DATE         2014-03-30 19:00:00\n",
      "EXP_YEAR                    2014\n",
      "EXP_MONTH                      8\n",
      "TYPE                           C\n",
      "STRIKE                        28\n",
      "PRICE                        1.1\n",
      "MATURITY     2014-08-14 19:00:00\n",
      "TTM                        0.375\n",
      "IMP_VOL                 0.826291\n",
      "Name: 46393, dtype: object\n",
      "\n",
      "0.858103459927\n",
      "0.831217666876\n",
      "0.831217666876\n",
      "DATE         2014-03-30 19:00:00\n",
      "EXP_YEAR                    2014\n",
      "EXP_MONTH                      8\n",
      "TYPE                           C\n",
      "STRIKE                        29\n",
      "PRICE                          1\n",
      "MATURITY     2014-08-14 19:00:00\n",
      "TTM                        0.375\n",
      "IMP_VOL                 0.831218\n",
      "Name: 46394, dtype: object\n",
      "\n",
      "0.876420884717\n",
      "0.832615758713\n",
      "0.832615758713\n",
      "DATE         2014-03-30 19:00:00\n",
      "EXP_YEAR                    2014\n",
      "EXP_MONTH                      8\n",
      "TYPE                           C\n",
      "STRIKE                        30\n",
      "PRICE                        0.9\n",
      "MATURITY     2014-08-14 19:00:00\n",
      "TTM                        0.375\n",
      "IMP_VOL                 0.832616\n",
      "Name: 46395, dtype: object\n",
      "\n",
      "1.63578193469\n",
      "1.64523724939\n",
      "1.64523724939\n",
      "DATE         2014-03-30 19:00:00\n",
      "EXP_YEAR                    2014\n",
      "EXP_MONTH                      9\n",
      "TYPE                           C\n",
      "STRIKE                        11\n",
      "PRICE                       9.95\n",
      "MATURITY     2014-09-18 19:00:00\n",
      "TTM                        0.471\n",
      "IMP_VOL                  1.64524\n",
      "Name: 46426, dtype: object\n",
      "\n",
      "1.44413505314\n",
      "1.46733548088\n",
      "1.46733548088\n",
      "DATE         2014-03-30 19:00:00\n",
      "EXP_YEAR                    2014\n",
      "EXP_MONTH                      9\n",
      "TYPE                           C\n",
      "STRIKE                        12\n",
      "PRICE                       8.95\n",
      "MATURITY     2014-09-18 19:00:00\n",
      "TTM                        0.471\n",
      "IMP_VOL                  1.46734\n",
      "Name: 46427, dtype: object\n",
      "\n",
      "1.2642264711\n",
      "1.30639087523\n",
      "1.30639087523\n",
      "DATE         2014-03-30 19:00:00\n",
      "EXP_YEAR                    2014\n",
      "EXP_MONTH                      9\n",
      "TYPE                           C\n",
      "STRIKE                        13\n",
      "PRICE                       7.95\n",
      "MATURITY     2014-09-18 19:00:00\n",
      "TTM                        0.471\n",
      "IMP_VOL                  1.30639\n",
      "Name: 46428, dtype: object\n",
      "\n",
      "1.12267297327\n",
      "1.18472715207\n",
      "1.18472715207\n",
      "DATE         2014-03-30 19:00:00\n",
      "EXP_YEAR                    2014\n",
      "EXP_MONTH                      9\n",
      "TYPE                           C\n",
      "STRIKE                        14\n",
      "PRICE                       7.05\n",
      "MATURITY     2014-09-18 19:00:00\n",
      "TTM                        0.471\n",
      "IMP_VOL                  1.18473\n",
      "Name: 46429, dtype: object\n",
      "\n",
      "0.984786549278\n",
      "1.06938376526\n",
      "1.06938376526\n",
      "DATE         2014-03-30 19:00:00\n",
      "EXP_YEAR                    2014\n",
      "EXP_MONTH                      9\n",
      "TYPE                           C\n",
      "STRIKE                        15\n",
      "PRICE                       6.15\n",
      "MATURITY     2014-09-18 19:00:00\n",
      "TTM                        0.471\n",
      "IMP_VOL                  1.06938\n",
      "Name: 46430, dtype: object\n",
      "\n",
      "0.87707795536\n",
      "0.981717832436\n",
      "0.981717832436\n",
      "DATE         2014-03-30 19:00:00\n",
      "EXP_YEAR                    2014\n",
      "EXP_MONTH                      9\n",
      "TYPE                           C\n",
      "STRIKE                        16\n",
      "PRICE                       5.35\n",
      "MATURITY     2014-09-18 19:00:00\n",
      "TTM                        0.471\n",
      "IMP_VOL                 0.981718\n",
      "Name: 46431, dtype: object\n",
      "\n",
      "0.79603924642\n",
      "0.916465829632\n",
      "0.916465829632\n",
      "DATE         2014-03-30 19:00:00\n",
      "EXP_YEAR                    2014\n",
      "EXP_MONTH                      9\n",
      "TYPE                           C\n",
      "STRIKE                        17\n",
      "PRICE                       4.65\n",
      "MATURITY     2014-09-18 19:00:00\n",
      "TTM                        0.471\n",
      "IMP_VOL                 0.916466\n",
      "Name: 46432, dtype: object\n",
      "\n",
      "0.726110087855\n",
      "0.859109939582\n",
      "0.859109939582\n",
      "DATE         2014-03-30 19:00:00\n",
      "EXP_YEAR                    2014\n",
      "EXP_MONTH                      9\n",
      "TYPE                           C\n",
      "STRIKE                        18\n",
      "PRICE                          4\n",
      "MATURITY     2014-09-18 19:00:00\n",
      "TTM                        0.471\n",
      "IMP_VOL                  0.85911\n",
      "Name: 46433, dtype: object\n",
      "\n",
      "0.691708456552\n",
      "0.828871858698\n",
      "0.828871858698\n",
      "DATE         2014-03-30 19:00:00\n",
      "EXP_YEAR                    2014\n",
      "EXP_MONTH                      9\n",
      "TYPE                           C\n",
      "STRIKE                        19\n",
      "PRICE                        3.5\n",
      "MATURITY     2014-09-18 19:00:00\n",
      "TTM                        0.471\n",
      "IMP_VOL                 0.828872\n",
      "Name: 46434, dtype: object\n",
      "\n",
      "0.665683960892\n",
      "0.802957191485\n",
      "0.802957191485\n",
      "DATE         2014-03-30 19:00:00\n",
      "EXP_YEAR                    2014\n",
      "EXP_MONTH                      9\n",
      "TYPE                           C\n",
      "STRIKE                        20\n",
      "PRICE                       3.05\n",
      "MATURITY     2014-09-18 19:00:00\n",
      "TTM                        0.471\n",
      "IMP_VOL                 0.802957\n",
      "Name: 46435, dtype: object\n",
      "\n",
      "0.65987008024\n",
      "0.79143334478\n",
      "0.79143334478\n",
      "DATE         2014-03-30 19:00:00\n",
      "EXP_YEAR                    2014\n",
      "EXP_MONTH                      9\n",
      "TYPE                           C\n",
      "STRIKE                        21\n",
      "PRICE                        2.7\n",
      "MATURITY     2014-09-18 19:00:00\n",
      "TTM                        0.471\n",
      "IMP_VOL                 0.791433\n",
      "Name: 46436, dtype: object\n",
      "\n",
      "0.661504613708\n",
      "0.784124871898\n",
      "0.784124871898\n",
      "DATE         2014-03-30 19:00:00\n",
      "EXP_YEAR                    2014\n",
      "EXP_MONTH                      9\n",
      "TYPE                           C\n",
      "STRIKE                        22\n",
      "PRICE                        2.4\n",
      "MATURITY     2014-09-18 19:00:00\n",
      "TTM                        0.471\n",
      "IMP_VOL                 0.784125\n",
      "Name: 46437, dtype: object\n",
      "\n",
      "0.670534648336\n",
      "0.781552125699\n",
      "0.781552125699\n",
      "DATE         2014-03-30 19:00:00\n",
      "EXP_YEAR                    2014\n",
      "EXP_MONTH                      9\n",
      "TYPE                           C\n",
      "STRIKE                        23\n",
      "PRICE                       2.15\n",
      "MATURITY     2014-09-18 19:00:00\n",
      "TTM                        0.471\n",
      "IMP_VOL                 0.781552\n",
      "Name: 46438, dtype: object\n",
      "\n",
      "0.686944982492\n",
      "0.784439889427\n",
      "0.784439889427\n",
      "DATE         2014-03-30 19:00:00\n",
      "EXP_YEAR                    2014\n",
      "EXP_MONTH                      9\n",
      "TYPE                           C\n",
      "STRIKE                        24\n",
      "PRICE                       1.95\n",
      "MATURITY     2014-09-18 19:00:00\n",
      "TTM                        0.471\n",
      "IMP_VOL                  0.78444\n",
      "Name: 46439, dtype: object\n",
      "\n",
      "0.699377402224\n",
      "0.782637052662\n",
      "0.782637052662\n",
      "DATE         2014-03-30 19:00:00\n",
      "EXP_YEAR                    2014\n",
      "EXP_MONTH                      9\n",
      "TYPE                           C\n",
      "STRIKE                        25\n",
      "PRICE                       1.75\n",
      "MATURITY     2014-09-18 19:00:00\n",
      "TTM                        0.471\n",
      "IMP_VOL                 0.782637\n",
      "Name: 46440, dtype: object\n",
      "\n",
      "0.708279593023\n",
      "0.776245785493\n",
      "0.776245785493\n",
      "DATE         2014-03-30 19:00:00\n",
      "EXP_YEAR                    2014\n",
      "EXP_MONTH                      9\n",
      "TYPE                           C\n",
      "STRIKE                        26\n",
      "PRICE                       1.55\n",
      "MATURITY     2014-09-18 19:00:00\n",
      "TTM                        0.471\n",
      "IMP_VOL                 0.776246\n",
      "Name: 46441, dtype: object\n",
      "\n",
      "0.736257296858\n",
      "0.788856025235\n",
      "0.788856025235\n",
      "DATE         2014-03-30 19:00:00\n",
      "EXP_YEAR                    2014\n",
      "EXP_MONTH                      9\n",
      "TYPE                           C\n",
      "STRIKE                        27\n",
      "PRICE                       1.45\n",
      "MATURITY     2014-09-18 19:00:00\n",
      "TTM                        0.471\n",
      "IMP_VOL                 0.788856\n",
      "Name: 46442, dtype: object\n",
      "\n",
      "0.749958972985\n",
      "0.786311806087\n",
      "0.786311806087\n",
      "DATE         2014-03-30 19:00:00\n",
      "EXP_YEAR                    2014\n",
      "EXP_MONTH                      9\n",
      "TYPE                           C\n",
      "STRIKE                        28\n",
      "PRICE                        1.3\n",
      "MATURITY     2014-09-18 19:00:00\n",
      "TTM                        0.471\n",
      "IMP_VOL                 0.786312\n"
     ]
    },
    {
     "name": "stdout",
     "output_type": "stream",
     "text": [
      "Name: 46443, dtype: object\n",
      "\n",
      "0.771836924681\n",
      "0.792648570192\n",
      "0.792648570192\n",
      "DATE         2014-03-30 19:00:00\n",
      "EXP_YEAR                    2014\n",
      "EXP_MONTH                      9\n",
      "TYPE                           C\n",
      "STRIKE                        29\n",
      "PRICE                        1.2\n",
      "MATURITY     2014-09-18 19:00:00\n",
      "TTM                        0.471\n",
      "IMP_VOL                 0.792649\n",
      "Name: 46444, dtype: object\n",
      "\n",
      "0.791069643051\n",
      "0.79616577256\n",
      "0.79616577256\n",
      "DATE         2014-03-30 19:00:00\n",
      "EXP_YEAR                    2014\n",
      "EXP_MONTH                      9\n",
      "TYPE                           C\n",
      "STRIKE                        30\n",
      "PRICE                        1.1\n",
      "MATURITY     2014-09-18 19:00:00\n",
      "TTM                        0.471\n",
      "IMP_VOL                 0.796166\n",
      "Name: 46445, dtype: object\n",
      "\n",
      "1.53649376966\n",
      "1.55540778173\n",
      "1.55540778173\n",
      "DATE         2014-03-30 19:00:00\n",
      "EXP_YEAR                    2014\n",
      "EXP_MONTH                     10\n",
      "TYPE                           C\n",
      "STRIKE                        11\n",
      "PRICE                      10.05\n",
      "MATURITY     2014-10-16 19:00:00\n",
      "TTM                        0.548\n",
      "IMP_VOL                  1.55541\n",
      "Name: 46476, dtype: object\n",
      "\n",
      "1.34967643915\n",
      "1.38774106837\n",
      "1.38774106837\n",
      "DATE         2014-03-30 19:00:00\n",
      "EXP_YEAR                    2014\n",
      "EXP_MONTH                     10\n",
      "TYPE                           C\n",
      "STRIKE                        12\n",
      "PRICE                       9.05\n",
      "MATURITY     2014-10-16 19:00:00\n",
      "TTM                        0.548\n",
      "IMP_VOL                  1.38774\n",
      "Name: 46477, dtype: object\n",
      "\n",
      "1.18908980918\n",
      "1.24946628896\n",
      "1.24946628896\n",
      "DATE         2014-03-30 19:00:00\n",
      "EXP_YEAR                    2014\n",
      "EXP_MONTH                     10\n",
      "TYPE                           C\n",
      "STRIKE                        13\n",
      "PRICE                        8.1\n",
      "MATURITY     2014-10-16 19:00:00\n",
      "TTM                        0.548\n",
      "IMP_VOL                  1.24947\n",
      "Name: 46478, dtype: object\n",
      "\n",
      "1.03536714389\n",
      "1.12164916922\n",
      "1.12164916922\n",
      "DATE         2014-03-30 19:00:00\n",
      "EXP_YEAR                    2014\n",
      "EXP_MONTH                     10\n",
      "TYPE                           C\n",
      "STRIKE                        14\n",
      "PRICE                       7.15\n",
      "MATURITY     2014-10-16 19:00:00\n",
      "TTM                        0.548\n",
      "IMP_VOL                  1.12165\n",
      "Name: 46479, dtype: object\n",
      "\n",
      "0.914345064406\n",
      "1.02465254124\n",
      "1.02465254124\n",
      "DATE         2014-03-30 19:00:00\n",
      "EXP_YEAR                    2014\n",
      "EXP_MONTH                     10\n",
      "TYPE                           C\n",
      "STRIKE                        15\n",
      "PRICE                        6.3\n",
      "MATURITY     2014-10-16 19:00:00\n",
      "TTM                        0.548\n",
      "IMP_VOL                  1.02465\n",
      "Name: 46480, dtype: object\n",
      "\n",
      "0.821767328853\n",
      "0.952362258386\n",
      "0.952362258386\n",
      "DATE         2014-03-30 19:00:00\n",
      "EXP_YEAR                    2014\n",
      "EXP_MONTH                     10\n",
      "TYPE                           C\n",
      "STRIKE                        16\n",
      "PRICE                       5.55\n",
      "MATURITY     2014-10-16 19:00:00\n",
      "TTM                        0.548\n",
      "IMP_VOL                 0.952362\n",
      "Name: 46481, dtype: object\n",
      "\n",
      "0.741629944329\n",
      "0.889925396239\n",
      "0.889925396239\n",
      "DATE         2014-03-30 19:00:00\n",
      "EXP_YEAR                    2014\n",
      "EXP_MONTH                     10\n",
      "TYPE                           C\n",
      "STRIKE                        17\n",
      "PRICE                       4.85\n",
      "MATURITY     2014-10-16 19:00:00\n",
      "TTM                        0.548\n",
      "IMP_VOL                 0.889925\n",
      "Name: 46482, dtype: object\n",
      "\n",
      "0.697770641133\n",
      "0.855310025021\n",
      "0.855310025021\n",
      "DATE         2014-03-30 19:00:00\n",
      "EXP_YEAR                    2014\n",
      "EXP_MONTH                     10\n",
      "TYPE                           C\n",
      "STRIKE                        18\n",
      "PRICE                        4.3\n",
      "MATURITY     2014-10-16 19:00:00\n",
      "TTM                        0.548\n",
      "IMP_VOL                  0.85531\n",
      "Name: 46483, dtype: object\n",
      "\n",
      "0.662946443931\n",
      "0.82592013332\n",
      "0.82592013332\n",
      "DATE         2014-03-30 19:00:00\n",
      "EXP_YEAR                    2014\n",
      "EXP_MONTH                     10\n",
      "TYPE                           C\n",
      "STRIKE                        19\n",
      "PRICE                        3.8\n",
      "MATURITY     2014-10-16 19:00:00\n",
      "TTM                        0.548\n",
      "IMP_VOL                  0.82592\n",
      "Name: 46484, dtype: object\n",
      "\n",
      "0.648615726467\n",
      "0.810814138279\n",
      "0.810814138279\n",
      "DATE         2014-03-30 19:00:00\n",
      "EXP_YEAR                    2014\n",
      "EXP_MONTH                     10\n",
      "TYPE                           C\n",
      "STRIKE                        20\n",
      "PRICE                        3.4\n",
      "MATURITY     2014-10-16 19:00:00\n",
      "TTM                        0.548\n",
      "IMP_VOL                 0.810814\n",
      "Name: 46485, dtype: object\n",
      "\n",
      "0.642016377548\n",
      "0.799966146813\n",
      "0.799966146813\n",
      "DATE         2014-03-30 19:00:00\n",
      "EXP_YEAR                    2014\n",
      "EXP_MONTH                     10\n",
      "TYPE                           C\n",
      "STRIKE                        21\n",
      "PRICE                       3.05\n",
      "MATURITY     2014-10-16 19:00:00\n",
      "TTM                        0.548\n",
      "IMP_VOL                 0.799966\n",
      "Name: 46486, dtype: object\n",
      "\n",
      "0.642976144397\n",
      "0.793566067227\n",
      "0.793566067227\n",
      "DATE         2014-03-30 19:00:00\n",
      "EXP_YEAR                    2014\n",
      "EXP_MONTH                     10\n",
      "TYPE                           C\n",
      "STRIKE                        22\n",
      "PRICE                       2.75\n",
      "MATURITY     2014-10-16 19:00:00\n",
      "TTM                        0.548\n",
      "IMP_VOL                 0.793566\n",
      "Name: 46487, dtype: object\n",
      "\n",
      "0.65137471378\n",
      "0.791991990866\n",
      "0.791991990866\n",
      "DATE         2014-03-30 19:00:00\n",
      "EXP_YEAR                    2014\n",
      "EXP_MONTH                     10\n",
      "TYPE                           C\n",
      "STRIKE                        23\n",
      "PRICE                        2.5\n",
      "MATURITY     2014-10-16 19:00:00\n",
      "TTM                        0.548\n",
      "IMP_VOL                 0.791992\n",
      "Name: 46488, dtype: object\n",
      "\n",
      "0.656061449753\n",
      "0.785961999264\n",
      "0.785961999264\n",
      "DATE         2014-03-30 19:00:00\n",
      "EXP_YEAR                    2014\n",
      "EXP_MONTH                     10\n",
      "TYPE                           C\n",
      "STRIKE                        24\n",
      "PRICE                       2.25\n",
      "MATURITY     2014-10-16 19:00:00\n",
      "TTM                        0.548\n",
      "IMP_VOL                 0.785962\n",
      "Name: 46489, dtype: object\n",
      "\n",
      "0.679289371094\n",
      "0.795639957308\n",
      "0.795639957308\n",
      "DATE         2014-03-30 19:00:00\n",
      "EXP_YEAR                    2014\n",
      "EXP_MONTH                     10\n",
      "TYPE                           C\n",
      "STRIKE                        25\n",
      "PRICE                        2.1\n",
      "MATURITY     2014-10-16 19:00:00\n",
      "TTM                        0.548\n",
      "IMP_VOL                  0.79564\n",
      "Name: 46490, dtype: object\n",
      "\n",
      "0.688251324958\n",
      "0.79173478203\n",
      "0.79173478203\n",
      "DATE         2014-03-30 19:00:00\n",
      "EXP_YEAR                    2014\n",
      "EXP_MONTH                     10\n",
      "TYPE                           C\n",
      "STRIKE                        26\n",
      "PRICE                        1.9\n",
      "MATURITY     2014-10-16 19:00:00\n",
      "TTM                        0.548\n",
      "IMP_VOL                 0.791735\n",
      "Name: 46491, dtype: object\n",
      "\n",
      "0.705001466634\n",
      "0.794614593275\n",
      "0.794614593275\n",
      "DATE         2014-03-30 19:00:00\n",
      "EXP_YEAR                    2014\n",
      "EXP_MONTH                     10\n",
      "TYPE                           C\n",
      "STRIKE                        27\n",
      "PRICE                       1.75\n",
      "MATURITY     2014-10-16 19:00:00\n",
      "TTM                        0.548\n",
      "IMP_VOL                 0.794615\n",
      "Name: 46492, dtype: object\n",
      "\n",
      "0.729482152377\n",
      "0.805124929135\n",
      "0.805124929135\n",
      "DATE         2014-03-30 19:00:00\n",
      "EXP_YEAR                    2014\n",
      "EXP_MONTH                     10\n",
      "TYPE                           C\n",
      "STRIKE                        28\n",
      "PRICE                       1.65\n",
      "MATURITY     2014-10-16 19:00:00\n",
      "TTM                        0.548\n",
      "IMP_VOL                 0.805125\n",
      "Name: 46493, dtype: object\n",
      "\n",
      "0.740817628588\n",
      "0.802226763449\n",
      "0.802226763449\n",
      "DATE         2014-03-30 19:00:00\n",
      "EXP_YEAR                    2014\n",
      "EXP_MONTH                     10\n",
      "TYPE                           C\n",
      "STRIKE                        29\n",
      "PRICE                        1.5\n",
      "MATURITY     2014-10-16 19:00:00\n",
      "TTM                        0.548\n",
      "IMP_VOL                 0.802227\n",
      "Name: 46494, dtype: object\n",
      "\n",
      "0.760216254345\n",
      "0.807713792891\n",
      "0.807713792891\n",
      "DATE         2014-03-30 19:00:00\n",
      "EXP_YEAR                    2014\n",
      "EXP_MONTH                     10\n",
      "TYPE                           C\n",
      "STRIKE                        30\n",
      "PRICE                        1.4\n",
      "MATURITY     2014-10-16 19:00:00\n",
      "TTM                        0.548\n",
      "IMP_VOL                 0.807714\n",
      "Name: 46495, dtype: object\n",
      "\n",
      "1.4600178999\n",
      "1.4915462382\n",
      "1.4915462382\n",
      "DATE         2014-03-30 19:00:00\n",
      "EXP_YEAR                    2014\n",
      "EXP_MONTH                     11\n",
      "TYPE                           C\n",
      "STRIKE                        11\n",
      "PRICE                      10.25\n",
      "MATURITY     2014-11-20 18:00:00\n",
      "TTM                        0.644\n",
      "IMP_VOL                  1.49155\n",
      "Name: 46526, dtype: object\n",
      "\n",
      "1.27507941874\n",
      "1.3317591466\n",
      "1.3317591466\n",
      "DATE         2014-03-30 19:00:00\n",
      "EXP_YEAR                    2014\n",
      "EXP_MONTH                     11\n",
      "TYPE                           C\n",
      "STRIKE                        12\n",
      "PRICE                       9.25\n",
      "MATURITY     2014-11-20 18:00:00\n",
      "TTM                        0.644\n",
      "IMP_VOL                  1.33176\n",
      "Name: 46527, dtype: object\n",
      "\n",
      "1.11574474467\n"
     ]
    },
    {
     "name": "stdout",
     "output_type": "stream",
     "text": [
      "1.20006325385\n",
      "1.20006325385\n",
      "DATE         2014-03-30 19:00:00\n",
      "EXP_YEAR                    2014\n",
      "EXP_MONTH                     11\n",
      "TYPE                           C\n",
      "STRIKE                        13\n",
      "PRICE                        8.3\n",
      "MATURITY     2014-11-20 18:00:00\n",
      "TTM                        0.644\n",
      "IMP_VOL                  1.20006\n",
      "Name: 46528, dtype: object\n",
      "\n",
      "0.977374613407\n",
      "1.09005665847\n",
      "1.09005665847\n",
      "DATE         2014-03-30 19:00:00\n",
      "EXP_YEAR                    2014\n",
      "EXP_MONTH                     11\n",
      "TYPE                           C\n",
      "STRIKE                        14\n",
      "PRICE                        7.4\n",
      "MATURITY     2014-11-20 18:00:00\n",
      "TTM                        0.644\n",
      "IMP_VOL                  1.09006\n",
      "Name: 46529, dtype: object\n",
      "\n",
      "0.85666234162\n",
      "0.99704137731\n",
      "0.99704137731\n",
      "DATE         2014-03-30 19:00:00\n",
      "EXP_YEAR                    2014\n",
      "EXP_MONTH                     11\n",
      "TYPE                           C\n",
      "STRIKE                        15\n",
      "PRICE                       6.55\n",
      "MATURITY     2014-11-20 18:00:00\n",
      "TTM                        0.644\n",
      "IMP_VOL                 0.997041\n",
      "Name: 46530, dtype: object\n",
      "\n",
      "0.764081796223\n",
      "0.92751899717\n",
      "0.92751899717\n",
      "DATE         2014-03-30 19:00:00\n",
      "EXP_YEAR                    2014\n",
      "EXP_MONTH                     11\n",
      "TYPE                           C\n",
      "STRIKE                        16\n",
      "PRICE                        5.8\n",
      "MATURITY     2014-11-20 18:00:00\n",
      "TTM                        0.644\n",
      "IMP_VOL                 0.927519\n",
      "Name: 46531, dtype: object\n",
      "\n",
      "0.696613846354\n",
      "0.877301600631\n",
      "0.877301600631\n",
      "DATE         2014-03-30 19:00:00\n",
      "EXP_YEAR                    2014\n",
      "EXP_MONTH                     11\n",
      "TYPE                           C\n",
      "STRIKE                        17\n",
      "PRICE                       5.15\n",
      "MATURITY     2014-11-20 18:00:00\n",
      "TTM                        0.644\n",
      "IMP_VOL                 0.877302\n",
      "Name: 46532, dtype: object\n",
      "\n",
      "0.65198065186\n",
      "0.843453418858\n",
      "0.843453418858\n",
      "DATE         2014-03-30 19:00:00\n",
      "EXP_YEAR                    2014\n",
      "EXP_MONTH                     11\n",
      "TYPE                           C\n",
      "STRIKE                        18\n",
      "PRICE                        4.6\n",
      "MATURITY     2014-11-20 18:00:00\n",
      "TTM                        0.644\n",
      "IMP_VOL                 0.843453\n",
      "Name: 46533, dtype: object\n",
      "\n",
      "0.616628943155\n",
      "0.815014896972\n",
      "0.815014896972\n",
      "DATE         2014-03-30 19:00:00\n",
      "EXP_YEAR                    2014\n",
      "EXP_MONTH                     11\n",
      "TYPE                           C\n",
      "STRIKE                        19\n",
      "PRICE                        4.1\n",
      "MATURITY     2014-11-20 18:00:00\n",
      "TTM                        0.644\n",
      "IMP_VOL                 0.815015\n",
      "Name: 46534, dtype: object\n",
      "\n",
      "0.601580338951\n",
      "0.800332504055\n",
      "0.800332504055\n",
      "DATE         2014-03-30 19:00:00\n",
      "EXP_YEAR                    2014\n",
      "EXP_MONTH                     11\n",
      "TYPE                           C\n",
      "STRIKE                        20\n",
      "PRICE                        3.7\n",
      "MATURITY     2014-11-20 18:00:00\n",
      "TTM                        0.644\n",
      "IMP_VOL                 0.800333\n",
      "Name: 46535, dtype: object\n",
      "\n",
      "0.59440906459\n",
      "0.790022987584\n",
      "0.790022987584\n",
      "DATE         2014-03-30 19:00:00\n",
      "EXP_YEAR                    2014\n",
      "EXP_MONTH                     11\n",
      "TYPE                           C\n",
      "STRIKE                        21\n",
      "PRICE                       3.35\n",
      "MATURITY     2014-11-20 18:00:00\n",
      "TTM                        0.644\n",
      "IMP_VOL                 0.790023\n",
      "Name: 46536, dtype: object\n",
      "\n",
      "0.594884457266\n",
      "0.78419359801\n",
      "0.78419359801\n",
      "DATE         2014-03-30 19:00:00\n",
      "EXP_YEAR                    2014\n",
      "EXP_MONTH                     11\n",
      "TYPE                           C\n",
      "STRIKE                        22\n",
      "PRICE                       3.05\n",
      "MATURITY     2014-11-20 18:00:00\n",
      "TTM                        0.644\n",
      "IMP_VOL                 0.784194\n",
      "Name: 46537, dtype: object\n",
      "\n",
      "0.602830124746\n",
      "0.783116304283\n",
      "0.783116304283\n",
      "DATE         2014-03-30 19:00:00\n",
      "EXP_YEAR                    2014\n",
      "EXP_MONTH                     11\n",
      "TYPE                           C\n",
      "STRIKE                        23\n",
      "PRICE                        2.8\n",
      "MATURITY     2014-11-20 18:00:00\n",
      "TTM                        0.644\n",
      "IMP_VOL                 0.783116\n",
      "Name: 46538, dtype: object\n",
      "\n",
      "0.618112393812\n",
      "0.787199954413\n",
      "0.787199954413\n",
      "DATE         2014-03-30 19:00:00\n",
      "EXP_YEAR                    2014\n",
      "EXP_MONTH                     11\n",
      "TYPE                           C\n",
      "STRIKE                        24\n",
      "PRICE                        2.6\n",
      "MATURITY     2014-11-20 18:00:00\n",
      "TTM                        0.644\n",
      "IMP_VOL                   0.7872\n",
      "Name: 46539, dtype: object\n",
      "\n",
      "0.630108551331\n",
      "0.787899132751\n",
      "0.787899132751\n",
      "DATE         2014-03-30 19:00:00\n",
      "EXP_YEAR                    2014\n",
      "EXP_MONTH                     11\n",
      "TYPE                           C\n",
      "STRIKE                        25\n",
      "PRICE                        2.4\n",
      "MATURITY     2014-11-20 18:00:00\n",
      "TTM                        0.644\n",
      "IMP_VOL                 0.787899\n",
      "Name: 46540, dtype: object\n",
      "\n",
      "0.639188984522\n",
      "0.785411474023\n",
      "0.785411474023\n",
      "DATE         2014-03-30 19:00:00\n",
      "EXP_YEAR                    2014\n",
      "EXP_MONTH                     11\n",
      "TYPE                           C\n",
      "STRIKE                        26\n",
      "PRICE                        2.2\n",
      "MATURITY     2014-11-20 18:00:00\n",
      "TTM                        0.644\n",
      "IMP_VOL                 0.785411\n",
      "Name: 46541, dtype: object\n",
      "\n",
      "0.655907803271\n",
      "0.78924118396\n",
      "0.78924118396\n",
      "DATE         2014-03-30 19:00:00\n",
      "EXP_YEAR                    2014\n",
      "EXP_MONTH                     11\n",
      "TYPE                           C\n",
      "STRIKE                        27\n",
      "PRICE                       2.05\n",
      "MATURITY     2014-11-20 18:00:00\n",
      "TTM                        0.644\n",
      "IMP_VOL                 0.789241\n",
      "Name: 46542, dtype: object\n",
      "\n",
      "0.680163781628\n",
      "0.80001556334\n",
      "0.80001556334\n",
      "DATE         2014-03-30 19:00:00\n",
      "EXP_YEAR                    2014\n",
      "EXP_MONTH                     11\n",
      "TYPE                           C\n",
      "STRIKE                        28\n",
      "PRICE                       1.95\n",
      "MATURITY     2014-11-20 18:00:00\n",
      "TTM                        0.644\n",
      "IMP_VOL                 0.800016\n",
      "Name: 46543, dtype: object\n",
      "\n",
      "0.691866839158\n",
      "0.798957745175\n",
      "0.798957745175\n",
      "DATE         2014-03-30 19:00:00\n",
      "EXP_YEAR                    2014\n",
      "EXP_MONTH                     11\n",
      "TYPE                           C\n",
      "STRIKE                        29\n",
      "PRICE                        1.8\n",
      "MATURITY     2014-11-20 18:00:00\n",
      "TTM                        0.644\n",
      "IMP_VOL                 0.798958\n",
      "Name: 46544, dtype: object\n",
      "\n",
      "0.711385015421\n",
      "0.80545899957\n",
      "0.80545899957\n",
      "DATE         2014-03-30 19:00:00\n",
      "EXP_YEAR                    2014\n",
      "EXP_MONTH                     11\n",
      "TYPE                           C\n",
      "STRIKE                        30\n",
      "PRICE                        1.7\n",
      "MATURITY     2014-11-20 18:00:00\n",
      "TTM                        0.644\n",
      "IMP_VOL                 0.805459\n",
      "Name: 46545, dtype: object\n",
      "\n"
     ]
    }
   ],
   "source": [
    "## ss\n",
    "tol = 0.5  # tolerance level for moneyness\n",
    "for option in options_data.index:\n",
    "    # iterating over all option quotes\n",
    "    forward = futures_data[futures_data['MATURITY'] == \\\n",
    "                options_data.loc[option]['MATURITY']]['PRICE'].values[0]\n",
    "      # picking the right futures value\n",
    "    if (forward * (1 - tol) < options_data.loc[option]['STRIKE']\n",
    "                             < forward * (1 + tol)):\n",
    "        # only for options with moneyness within tolerance\n",
    "        ## ss grab bsm_call_imp_vol from bsm_functions.py\n",
    "        sigma_est = 2\n",
    "        for i in range(90):\n",
    "            sigma_est -= ((bsm_call_value(V0, \n",
    "                                        options_data.loc[option]['STRIKE'],\n",
    "                                        options_data.loc[option]['TTM'],\n",
    "                                        r,   # short rate\n",
    "                                        sigma_est) - options_data.loc[option]['PRICE'])\n",
    "                        / bsm_vega(V0,\n",
    "                                        options_data.loc[option]['STRIKE'],\n",
    "                                        options_data.loc[option]['TTM'],\n",
    "                                        r,   # short rate\n",
    "                                        sigma_est)) \n",
    "            if (i % 30 ==0):\n",
    "                print(sigma_est)\n",
    "        options_data.ix[option, 'IMP_VOL'] = sigma_est \n",
    "        print(options_data.loc[option]); print()"
   ]
  },
  {
   "cell_type": "code",
   "execution_count": 16,
   "metadata": {
    "uuid": "94491814-c0c6-4565-b1f7-cedb1af12c48"
   },
   "outputs": [
    {
     "data": {
      "text/plain": [
       "496   2014-04-18 02:00:00\n",
       "497   2014-05-16 02:00:00\n",
       "498   2014-06-20 02:00:00\n",
       "499   2014-07-18 02:00:00\n",
       "500   2014-08-15 02:00:00\n",
       "501   2014-09-19 02:00:00\n",
       "502   2014-10-17 02:00:00\n",
       "503   2014-11-21 01:00:00\n",
       "Name: MATURITY, dtype: datetime64[ns]"
      ]
     },
     "execution_count": 16,
     "metadata": {},
     "output_type": "execute_result"
    }
   ],
   "source": [
    "futures_data['MATURITY']\n",
    "  # select the column with name MATURITY"
   ]
  },
  {
   "cell_type": "code",
   "execution_count": 17,
   "metadata": {
    "uuid": "cbb44f1e-2ab5-4d8f-976a-2d36515eef12"
   },
   "outputs": [
    {
     "data": {
      "text/plain": [
       "DATE         2014-03-31 02:00:00\n",
       "EXP_YEAR                    2014\n",
       "EXP_MONTH                      4\n",
       "TYPE                           C\n",
       "STRIKE                         1\n",
       "PRICE                      16.85\n",
       "MATURITY     2014-04-18 02:00:00\n",
       "TTM                        0.049\n",
       "IMP_VOL                        0\n",
       "Name: 46170, dtype: object"
      ]
     },
     "execution_count": 17,
     "metadata": {},
     "output_type": "execute_result"
    }
   ],
   "source": [
    "options_data.loc[46170]\n",
    "  # select data row for index 46170"
   ]
  },
  {
   "cell_type": "code",
   "execution_count": 18,
   "metadata": {
    "uuid": "e267720a-901b-42fd-86eb-f31c29ebc166"
   },
   "outputs": [
    {
     "data": {
      "text/plain": [
       "1.0"
      ]
     },
     "execution_count": 18,
     "metadata": {},
     "output_type": "execute_result"
    }
   ],
   "source": [
    "options_data.loc[46170]['STRIKE']\n",
    "  # select only the value in column STRIKE\n",
    "  # for index 46170 "
   ]
  },
  {
   "cell_type": "code",
   "execution_count": 54,
   "metadata": {
    "ExecuteTime": {
     "end_time": "2017-09-10T16:00:28.834770Z",
     "start_time": "2017-09-10T16:00:28.822337Z"
    }
   },
   "outputs": [
    {
     "data": {
      "text/html": [
       "<div>\n",
       "<style>\n",
       "    .dataframe thead tr:only-child th {\n",
       "        text-align: right;\n",
       "    }\n",
       "\n",
       "    .dataframe thead th {\n",
       "        text-align: left;\n",
       "    }\n",
       "\n",
       "    .dataframe tbody tr th {\n",
       "        vertical-align: top;\n",
       "    }\n",
       "</style>\n",
       "<table border=\"1\" class=\"dataframe\">\n",
       "  <thead>\n",
       "    <tr style=\"text-align: right;\">\n",
       "      <th></th>\n",
       "      <th>DATE</th>\n",
       "      <th>EXP_YEAR</th>\n",
       "      <th>EXP_MONTH</th>\n",
       "      <th>TYPE</th>\n",
       "      <th>STRIKE</th>\n",
       "      <th>PRICE</th>\n",
       "      <th>MATURITY</th>\n",
       "      <th>TTM</th>\n",
       "      <th>IMP_VOL</th>\n",
       "    </tr>\n",
       "  </thead>\n",
       "  <tbody>\n",
       "    <tr>\n",
       "      <th>46170</th>\n",
       "      <td>2014-03-30 19:00:00</td>\n",
       "      <td>2014</td>\n",
       "      <td>4</td>\n",
       "      <td>C</td>\n",
       "      <td>1.0</td>\n",
       "      <td>16.85</td>\n",
       "      <td>2014-04-17 19:00:00</td>\n",
       "      <td>0.049</td>\n",
       "      <td>0.0</td>\n",
       "    </tr>\n",
       "    <tr>\n",
       "      <th>46171</th>\n",
       "      <td>2014-03-30 19:00:00</td>\n",
       "      <td>2014</td>\n",
       "      <td>4</td>\n",
       "      <td>C</td>\n",
       "      <td>2.0</td>\n",
       "      <td>15.85</td>\n",
       "      <td>2014-04-17 19:00:00</td>\n",
       "      <td>0.049</td>\n",
       "      <td>0.0</td>\n",
       "    </tr>\n",
       "    <tr>\n",
       "      <th>46172</th>\n",
       "      <td>2014-03-30 19:00:00</td>\n",
       "      <td>2014</td>\n",
       "      <td>4</td>\n",
       "      <td>C</td>\n",
       "      <td>3.0</td>\n",
       "      <td>14.85</td>\n",
       "      <td>2014-04-17 19:00:00</td>\n",
       "      <td>0.049</td>\n",
       "      <td>0.0</td>\n",
       "    </tr>\n",
       "    <tr>\n",
       "      <th>46173</th>\n",
       "      <td>2014-03-30 19:00:00</td>\n",
       "      <td>2014</td>\n",
       "      <td>4</td>\n",
       "      <td>C</td>\n",
       "      <td>4.0</td>\n",
       "      <td>13.85</td>\n",
       "      <td>2014-04-17 19:00:00</td>\n",
       "      <td>0.049</td>\n",
       "      <td>0.0</td>\n",
       "    </tr>\n",
       "    <tr>\n",
       "      <th>46174</th>\n",
       "      <td>2014-03-30 19:00:00</td>\n",
       "      <td>2014</td>\n",
       "      <td>4</td>\n",
       "      <td>C</td>\n",
       "      <td>5.0</td>\n",
       "      <td>12.85</td>\n",
       "      <td>2014-04-17 19:00:00</td>\n",
       "      <td>0.049</td>\n",
       "      <td>0.0</td>\n",
       "    </tr>\n",
       "  </tbody>\n",
       "</table>\n",
       "</div>"
      ],
      "text/plain": [
       "                     DATE  EXP_YEAR  EXP_MONTH TYPE  STRIKE  PRICE  \\\n",
       "46170 2014-03-30 19:00:00      2014          4    C     1.0  16.85   \n",
       "46171 2014-03-30 19:00:00      2014          4    C     2.0  15.85   \n",
       "46172 2014-03-30 19:00:00      2014          4    C     3.0  14.85   \n",
       "46173 2014-03-30 19:00:00      2014          4    C     4.0  13.85   \n",
       "46174 2014-03-30 19:00:00      2014          4    C     5.0  12.85   \n",
       "\n",
       "                 MATURITY    TTM  IMP_VOL  \n",
       "46170 2014-04-17 19:00:00  0.049      0.0  \n",
       "46171 2014-04-17 19:00:00  0.049      0.0  \n",
       "46172 2014-04-17 19:00:00  0.049      0.0  \n",
       "46173 2014-04-17 19:00:00  0.049      0.0  \n",
       "46174 2014-04-17 19:00:00  0.049      0.0  "
      ]
     },
     "execution_count": 54,
     "metadata": {},
     "output_type": "execute_result"
    }
   ],
   "source": [
    "## ss\n",
    "options_data.head()"
   ]
  },
  {
   "cell_type": "code",
   "execution_count": 55,
   "metadata": {
    "ExecuteTime": {
     "end_time": "2017-09-10T16:02:19.558716Z",
     "start_time": "2017-09-10T16:02:19.549108Z"
    },
    "collapsed": true,
    "uuid": "03092953-5496-4500-9cf5-e3cbcf46d396"
   },
   "outputs": [],
   "source": [
    "plot_data = options_data[options_data['IMP_VOL'] > 0]"
   ]
  },
  {
   "cell_type": "code",
   "execution_count": 56,
   "metadata": {
    "ExecuteTime": {
     "end_time": "2017-09-10T16:02:54.059488Z",
     "start_time": "2017-09-10T16:02:54.047605Z"
    }
   },
   "outputs": [
    {
     "data": {
      "text/html": [
       "<div>\n",
       "<style>\n",
       "    .dataframe thead tr:only-child th {\n",
       "        text-align: right;\n",
       "    }\n",
       "\n",
       "    .dataframe thead th {\n",
       "        text-align: left;\n",
       "    }\n",
       "\n",
       "    .dataframe tbody tr th {\n",
       "        vertical-align: top;\n",
       "    }\n",
       "</style>\n",
       "<table border=\"1\" class=\"dataframe\">\n",
       "  <thead>\n",
       "    <tr style=\"text-align: right;\">\n",
       "      <th></th>\n",
       "      <th>DATE</th>\n",
       "      <th>EXP_YEAR</th>\n",
       "      <th>EXP_MONTH</th>\n",
       "      <th>TYPE</th>\n",
       "      <th>STRIKE</th>\n",
       "      <th>PRICE</th>\n",
       "      <th>MATURITY</th>\n",
       "      <th>TTM</th>\n",
       "      <th>IMP_VOL</th>\n",
       "    </tr>\n",
       "  </thead>\n",
       "  <tbody>\n",
       "    <tr>\n",
       "      <th>46178</th>\n",
       "      <td>2014-03-30 19:00:00</td>\n",
       "      <td>2014</td>\n",
       "      <td>4</td>\n",
       "      <td>C</td>\n",
       "      <td>9.0</td>\n",
       "      <td>8.85</td>\n",
       "      <td>2014-04-17 19:00:00</td>\n",
       "      <td>0.049</td>\n",
       "      <td>2.083388</td>\n",
       "    </tr>\n",
       "    <tr>\n",
       "      <th>46179</th>\n",
       "      <td>2014-03-30 19:00:00</td>\n",
       "      <td>2014</td>\n",
       "      <td>4</td>\n",
       "      <td>C</td>\n",
       "      <td>10.0</td>\n",
       "      <td>7.85</td>\n",
       "      <td>2014-04-17 19:00:00</td>\n",
       "      <td>0.049</td>\n",
       "      <td>1.804193</td>\n",
       "    </tr>\n",
       "    <tr>\n",
       "      <th>46180</th>\n",
       "      <td>2014-03-30 19:00:00</td>\n",
       "      <td>2014</td>\n",
       "      <td>4</td>\n",
       "      <td>C</td>\n",
       "      <td>11.0</td>\n",
       "      <td>6.85</td>\n",
       "      <td>2014-04-17 19:00:00</td>\n",
       "      <td>0.049</td>\n",
       "      <td>1.550283</td>\n",
       "    </tr>\n",
       "    <tr>\n",
       "      <th>46181</th>\n",
       "      <td>2014-03-30 19:00:00</td>\n",
       "      <td>2014</td>\n",
       "      <td>4</td>\n",
       "      <td>C</td>\n",
       "      <td>12.0</td>\n",
       "      <td>5.85</td>\n",
       "      <td>2014-04-17 19:00:00</td>\n",
       "      <td>0.049</td>\n",
       "      <td>1.316103</td>\n",
       "    </tr>\n",
       "    <tr>\n",
       "      <th>46182</th>\n",
       "      <td>2014-03-30 19:00:00</td>\n",
       "      <td>2014</td>\n",
       "      <td>4</td>\n",
       "      <td>C</td>\n",
       "      <td>13.0</td>\n",
       "      <td>4.85</td>\n",
       "      <td>2014-04-17 19:00:00</td>\n",
       "      <td>0.049</td>\n",
       "      <td>1.097184</td>\n",
       "    </tr>\n",
       "  </tbody>\n",
       "</table>\n",
       "</div>"
      ],
      "text/plain": [
       "                     DATE  EXP_YEAR  EXP_MONTH TYPE  STRIKE  PRICE  \\\n",
       "46178 2014-03-30 19:00:00      2014          4    C     9.0   8.85   \n",
       "46179 2014-03-30 19:00:00      2014          4    C    10.0   7.85   \n",
       "46180 2014-03-30 19:00:00      2014          4    C    11.0   6.85   \n",
       "46181 2014-03-30 19:00:00      2014          4    C    12.0   5.85   \n",
       "46182 2014-03-30 19:00:00      2014          4    C    13.0   4.85   \n",
       "\n",
       "                 MATURITY    TTM   IMP_VOL  \n",
       "46178 2014-04-17 19:00:00  0.049  2.083388  \n",
       "46179 2014-04-17 19:00:00  0.049  1.804193  \n",
       "46180 2014-04-17 19:00:00  0.049  1.550283  \n",
       "46181 2014-04-17 19:00:00  0.049  1.316103  \n",
       "46182 2014-04-17 19:00:00  0.049  1.097184  "
      ]
     },
     "execution_count": 56,
     "metadata": {},
     "output_type": "execute_result"
    }
   ],
   "source": [
    "#ss\n",
    "plot_data.head()"
   ]
  },
  {
   "cell_type": "code",
   "execution_count": 57,
   "metadata": {
    "ExecuteTime": {
     "end_time": "2017-09-10T16:04:21.652696Z",
     "start_time": "2017-09-10T16:04:21.646442Z"
    },
    "uuid": "738b9618-b3a9-434f-a685-441a0c837b76"
   },
   "outputs": [
    {
     "data": {
      "text/plain": [
       "[Timestamp('2014-04-17 19:00:00'),\n",
       " Timestamp('2014-05-15 19:00:00'),\n",
       " Timestamp('2014-06-19 19:00:00'),\n",
       " Timestamp('2014-07-17 19:00:00'),\n",
       " Timestamp('2014-08-14 19:00:00'),\n",
       " Timestamp('2014-09-18 19:00:00'),\n",
       " Timestamp('2014-10-16 19:00:00'),\n",
       " Timestamp('2014-11-20 18:00:00')]"
      ]
     },
     "execution_count": 57,
     "metadata": {},
     "output_type": "execute_result"
    }
   ],
   "source": [
    "maturities = sorted(set(options_data['MATURITY']))\n",
    "maturities"
   ]
  },
  {
   "cell_type": "code",
   "execution_count": 58,
   "metadata": {
    "ExecuteTime": {
     "end_time": "2017-09-10T16:08:21.794214Z",
     "start_time": "2017-09-10T16:08:21.455758Z"
    },
    "uuid": "8886807a-ca71-48d0-b5ef-ab7cb9470548"
   },
   "outputs": [
    {
     "data": {
      "image/png": "[encoded data removed]",
      "text/plain": [
       "<matplotlib.figure.Figure at 0x10f39b470>"
      ]
     },
     "metadata": {},
     "output_type": "display_data"
    }
   ],
   "source": [
    "import matplotlib.pyplot as plt\n",
    "%matplotlib inline\n",
    "plt.figure(figsize=(8, 6))\n",
    "for maturity in maturities:\n",
    "    data = plot_data[options_data.MATURITY == maturity]\n",
    "      # select data for this maturity\n",
    "    plt.plot(data['STRIKE'], data['IMP_VOL'],\n",
    "             label=maturity.date(), lw=1.5)\n",
    "    plt.plot(data['STRIKE'], data['IMP_VOL'], 'r.', label='')\n",
    "plt.grid(True) \n",
    "plt.xlabel('strike')\n",
    "plt.ylabel('implied volatility of volatility')\n",
    "plt.legend()\n",
    "plt.show()\n",
    "# tag: vs_imp_vol\n",
    "# title: Implied volatilities (of volatility) for European call options on the VSTOXX on 31. March 2014"
   ]
  },
  {
   "cell_type": "code",
   "execution_count": 59,
   "metadata": {
    "ExecuteTime": {
     "end_time": "2017-09-10T16:10:26.733578Z",
     "start_time": "2017-09-10T16:10:26.725163Z"
    },
    "uuid": "34582055-b4b2-49ea-8678-e44288f7de88"
   },
   "outputs": [
    {
     "data": {
      "text/plain": [
       "<pandas.core.groupby.DataFrameGroupBy object at 0x10f39bf98>"
      ]
     },
     "execution_count": 59,
     "metadata": {},
     "output_type": "execute_result"
    }
   ],
   "source": [
    "keep = ['PRICE', 'IMP_VOL']\n",
    "group_data = plot_data.groupby(['MATURITY', 'STRIKE'])[keep]\n",
    "group_data"
   ]
  },
  {
   "cell_type": "code",
   "execution_count": 23,
   "metadata": {
    "uuid": "1b5253de-0b31-4af0-8155-b2c405363a0d"
   },
   "outputs": [
    {
     "data": {
      "text/html": [
       "<div>\n",
       "<table border=\"1\" class=\"dataframe\">\n",
       "  <thead>\n",
       "    <tr style=\"text-align: right;\">\n",
       "      <th></th>\n",
       "      <th></th>\n",
       "      <th>PRICE</th>\n",
       "      <th>IMP_VOL</th>\n",
       "    </tr>\n",
       "    <tr>\n",
       "      <th>MATURITY</th>\n",
       "      <th>STRIKE</th>\n",
       "      <th></th>\n",
       "      <th></th>\n",
       "    </tr>\n",
       "  </thead>\n",
       "  <tbody>\n",
       "    <tr>\n",
       "      <th rowspan=\"5\" valign=\"top\">2014-04-18 02:00:00</th>\n",
       "      <th>9.0</th>\n",
       "      <td>8.85</td>\n",
       "      <td>2.083388</td>\n",
       "    </tr>\n",
       "    <tr>\n",
       "      <th>10.0</th>\n",
       "      <td>7.85</td>\n",
       "      <td>1.804193</td>\n",
       "    </tr>\n",
       "    <tr>\n",
       "      <th>11.0</th>\n",
       "      <td>6.85</td>\n",
       "      <td>1.550283</td>\n",
       "    </tr>\n",
       "    <tr>\n",
       "      <th>12.0</th>\n",
       "      <td>5.85</td>\n",
       "      <td>1.316103</td>\n",
       "    </tr>\n",
       "    <tr>\n",
       "      <th>13.0</th>\n",
       "      <td>4.85</td>\n",
       "      <td>1.097184</td>\n",
       "    </tr>\n",
       "  </tbody>\n",
       "</table>\n",
       "</div>"
      ],
      "text/plain": [
       "                            PRICE   IMP_VOL\n",
       "MATURITY            STRIKE                 \n",
       "2014-04-18 02:00:00 9.0      8.85  2.083388\n",
       "                    10.0     7.85  1.804193\n",
       "                    11.0     6.85  1.550283\n",
       "                    12.0     5.85  1.316103\n",
       "                    13.0     4.85  1.097184"
      ]
     },
     "execution_count": 23,
     "metadata": {},
     "output_type": "execute_result"
    }
   ],
   "source": [
    "group_data = group_data.sum()\n",
    "group_data.head()"
   ]
  },
  {
   "cell_type": "code",
   "execution_count": 24,
   "metadata": {
    "uuid": "390e4908-23ed-4419-a62d-b25ed3cf2d15"
   },
   "outputs": [
    {
     "data": {
      "text/plain": [
       "FrozenList([[2014-04-18 02:00:00, 2014-05-16 02:00:00, 2014-06-20 02:00:00, 2014-07-18 02:00:00, 2014-08-15 02:00:00, 2014-09-19 02:00:00, 2014-10-17 02:00:00, 2014-11-21 01:00:00], [9.0, 10.0, 11.0, 12.0, 13.0, 14.0, 15.0, 16.0, 17.0, 18.0, 19.0, 20.0, 21.0, 22.0, 23.0, 24.0, 25.0, 26.0, 27.0, 28.0, 29.0, 30.0]])"
      ]
     },
     "execution_count": 24,
     "metadata": {},
     "output_type": "execute_result"
    }
   ],
   "source": [
    "group_data.index.levels"
   ]
  },
  {
   "cell_type": "markdown",
   "metadata": {},
   "source": [
    "## Monte Carlo Simulation"
   ]
  },
  {
   "cell_type": "code",
   "execution_count": 62,
   "metadata": {
    "ExecuteTime": {
     "end_time": "2017-09-10T16:28:23.910355Z",
     "start_time": "2017-09-10T16:28:23.904248Z"
    },
    "uuid": "13a3c945-2ae9-4583-b21f-cb6d4e4729b8"
   },
   "outputs": [
    {
     "data": {
      "text/plain": [
       "8.0213522351431763"
      ]
     },
     "execution_count": 62,
     "metadata": {},
     "output_type": "execute_result"
    }
   ],
   "source": [
    "from bsm_functions import bsm_call_value\n",
    "S0 = 100.\n",
    "K = 105.\n",
    "T = 1.0\n",
    "r = 0.05\n",
    "sigma = 0.2\n",
    "bsm_call_value(S0, K, T, r, sigma)"
   ]
  },
  {
   "cell_type": "markdown",
   "metadata": {},
   "source": [
    "### Pure Python"
   ]
  },
  {
   "cell_type": "code",
   "execution_count": 63,
   "metadata": {
    "ExecuteTime": {
     "end_time": "2017-09-10T16:28:53.428459Z",
     "start_time": "2017-09-10T16:28:38.417018Z"
    },
    "uuid": "aebfedcc-472c-4225-82eb-6405ecf7eaa9"
   },
   "outputs": [
    {
     "name": "stdout",
     "output_type": "stream",
     "text": [
      "European Option Value   7.999\n",
      "Duration in Seconds    14.998\n"
     ]
    },
    {
     "data": {
      "text/plain": [
       "<matplotlib.figure.Figure at 0x10f6bc048>"
      ]
     },
     "metadata": {},
     "output_type": "display_data"
    }
   ],
   "source": [
    "%run mcs_pure_python.py"
   ]
  },
  {
   "cell_type": "code",
   "execution_count": 27,
   "metadata": {
    "uuid": "d038ec31-373b-4979-aa49-a47ff96fc234"
   },
   "outputs": [
    {
     "data": {
      "text/plain": [
       "7.999"
      ]
     },
     "execution_count": 27,
     "metadata": {},
     "output_type": "execute_result"
    }
   ],
   "source": [
    "sum_val = 0.0\n",
    "for path in S:\n",
    "    # C-like iteration for comparison\n",
    "    sum_val += max(path[-1] - K, 0)\n",
    "C0 = exp(-r * T) * sum_val / I\n",
    "round(C0, 3)"
   ]
  },
  {
   "cell_type": "markdown",
   "metadata": {},
   "source": [
    "### Vectorization with NumPy"
   ]
  },
  {
   "cell_type": "code",
   "execution_count": 28,
   "metadata": {
    "uuid": "2f695395-b7b7-4d0c-bab3-659fcd4da5d0"
   },
   "outputs": [
    {
     "name": "stdout",
     "output_type": "stream",
     "text": [
      "[1, 2, 3, 4, 5]\n"
     ]
    }
   ],
   "source": [
    "v = list(range(1, 6))\n",
    "print(v)"
   ]
  },
  {
   "cell_type": "code",
   "execution_count": 29,
   "metadata": {
    "uuid": "548c6e07-9435-421c-9408-d63252608f74"
   },
   "outputs": [
    {
     "data": {
      "text/plain": [
       "[1, 2, 3, 4, 5, 1, 2, 3, 4, 5]"
      ]
     },
     "execution_count": 29,
     "metadata": {},
     "output_type": "execute_result"
    }
   ],
   "source": [
    "2 * v"
   ]
  },
  {
   "cell_type": "code",
   "execution_count": 65,
   "metadata": {
    "ExecuteTime": {
     "end_time": "2017-09-10T16:34:30.690550Z",
     "start_time": "2017-09-10T16:34:30.679976Z"
    },
    "uuid": "0a831df5-d2c3-46af-8399-ad2b4b411001"
   },
   "outputs": [
    {
     "data": {
      "text/plain": [
       "array([1, 2, 3, 4, 5])"
      ]
     },
     "execution_count": 65,
     "metadata": {},
     "output_type": "execute_result"
    }
   ],
   "source": [
    "import numpy as np\n",
    "v = np.arange(1, 6)\n",
    "v"
   ]
  },
  {
   "cell_type": "code",
   "execution_count": 31,
   "metadata": {
    "uuid": "4c5153ff-983f-4ee1-95d6-0dae809da4bf"
   },
   "outputs": [
    {
     "data": {
      "text/plain": [
       "array([ 2,  4,  6,  8, 10])"
      ]
     },
     "execution_count": 31,
     "metadata": {},
     "output_type": "execute_result"
    }
   ],
   "source": [
    "2 * v"
   ]
  },
  {
   "cell_type": "code",
   "execution_count": 66,
   "metadata": {
    "ExecuteTime": {
     "end_time": "2017-09-10T16:34:34.164994Z",
     "start_time": "2017-09-10T16:34:34.153646Z"
    },
    "collapsed": true
   },
   "outputs": [
    {
     "data": {
      "text/plain": [
       "array([[ 0.,  0.,  0.,  0.,  0.,  0.,  0.,  0.,  0.,  0.,  0.,  0.,  0.,\n",
       "         0.,  0.,  0.,  0.,  0.,  0.,  0.,  0.,  0.,  0.,  0.,  0.,  0.,\n",
       "         0.,  0.,  0.,  0.,  0.,  0.,  0.,  0.,  0.,  0.,  0.,  0.,  0.,\n",
       "         0.,  0.,  0.,  0.,  0.,  0.,  0.,  0.,  0.,  0.,  0.,  0.,  0.,\n",
       "         0.,  0.,  0.,  0.,  0.,  0.,  0.,  0.,  0.,  0.,  0.,  0.,  0.,\n",
       "         0.,  0.,  0.,  0.,  0.,  0.,  0.,  0.,  0.,  0.,  0.,  0.,  0.,\n",
       "         0.,  0.,  0.,  0.,  0.,  0.,  0.,  0.,  0.,  0.,  0.,  0.,  0.,\n",
       "         0.,  0.,  0.,  0.,  0.,  0.,  0.,  0.,  0.],\n",
       "       [ 0.,  0.,  0.,  0.,  0.,  0.,  0.,  0.,  0.,  0.,  0.,  0.,  0.,\n",
       "         0.,  0.,  0.,  0.,  0.,  0.,  0.,  0.,  0.,  0.,  0.,  0.,  0.,\n",
       "         0.,  0.,  0.,  0.,  0.,  0.,  0.,  0.,  0.,  0.,  0.,  0.,  0.,\n",
       "         0.,  0.,  0.,  0.,  0.,  0.,  0.,  0.,  0.,  0.,  0.,  0.,  0.,\n",
       "         0.,  0.,  0.,  0.,  0.,  0.,  0.,  0.,  0.,  0.,  0.,  0.,  0.,\n",
       "         0.,  0.,  0.,  0.,  0.,  0.,  0.,  0.,  0.,  0.,  0.,  0.,  0.,\n",
       "         0.,  0.,  0.,  0.,  0.,  0.,  0.,  0.,  0.,  0.,  0.,  0.,  0.,\n",
       "         0.,  0.,  0.,  0.,  0.,  0.,  0.,  0.,  0.],\n",
       "       [ 0.,  0.,  0.,  0.,  0.,  0.,  0.,  0.,  0.,  0.,  0.,  0.,  0.,\n",
       "         0.,  0.,  0.,  0.,  0.,  0.,  0.,  0.,  0.,  0.,  0.,  0.,  0.,\n",
       "         0.,  0.,  0.,  0.,  0.,  0.,  0.,  0.,  0.,  0.,  0.,  0.,  0.,\n",
       "         0.,  0.,  0.,  0.,  0.,  0.,  0.,  0.,  0.,  0.,  0.,  0.,  0.,\n",
       "         0.,  0.,  0.,  0.,  0.,  0.,  0.,  0.,  0.,  0.,  0.,  0.,  0.,\n",
       "         0.,  0.,  0.,  0.,  0.,  0.,  0.,  0.,  0.,  0.,  0.,  0.,  0.,\n",
       "         0.,  0.,  0.,  0.,  0.,  0.,  0.,  0.,  0.,  0.,  0.,  0.,  0.,\n",
       "         0.,  0.,  0.,  0.,  0.,  0.,  0.,  0.,  0.],\n",
       "       [ 0.,  0.,  0.,  0.,  0.,  0.,  0.,  0.,  0.,  0.,  0.,  0.,  0.,\n",
       "         0.,  0.,  0.,  0.,  0.,  0.,  0.,  0.,  0.,  0.,  0.,  0.,  0.,\n",
       "         0.,  0.,  0.,  0.,  0.,  0.,  0.,  0.,  0.,  0.,  0.,  0.,  0.,\n",
       "         0.,  0.,  0.,  0.,  0.,  0.,  0.,  0.,  0.,  0.,  0.,  0.,  0.,\n",
       "         0.,  0.,  0.,  0.,  0.,  0.,  0.,  0.,  0.,  0.,  0.,  0.,  0.,\n",
       "         0.,  0.,  0.,  0.,  0.,  0.,  0.,  0.,  0.,  0.,  0.,  0.,  0.,\n",
       "         0.,  0.,  0.,  0.,  0.,  0.,  0.,  0.,  0.,  0.,  0.,  0.,  0.,\n",
       "         0.,  0.,  0.,  0.,  0.,  0.,  0.,  0.,  0.],\n",
       "       [ 0.,  0.,  0.,  0.,  0.,  0.,  0.,  0.,  0.,  0.,  0.,  0.,  0.,\n",
       "         0.,  0.,  0.,  0.,  0.,  0.,  0.,  0.,  0.,  0.,  0.,  0.,  0.,\n",
       "         0.,  0.,  0.,  0.,  0.,  0.,  0.,  0.,  0.,  0.,  0.,  0.,  0.,\n",
       "         0.,  0.,  0.,  0.,  0.,  0.,  0.,  0.,  0.,  0.,  0.,  0.,  0.,\n",
       "         0.,  0.,  0.,  0.,  0.,  0.,  0.,  0.,  0.,  0.,  0.,  0.,  0.,\n",
       "         0.,  0.,  0.,  0.,  0.,  0.,  0.,  0.,  0.,  0.,  0.,  0.,  0.,\n",
       "         0.,  0.,  0.,  0.,  0.,  0.,  0.,  0.,  0.,  0.,  0.,  0.,  0.,\n",
       "         0.,  0.,  0.,  0.,  0.,  0.,  0.,  0.,  0.]])"
      ]
     },
     "execution_count": 66,
     "metadata": {},
     "output_type": "execute_result"
    }
   ],
   "source": [
    "# ss\n",
    "np.zeros((5, 100))"
   ]
  },
  {
   "cell_type": "code",
   "execution_count": 67,
   "metadata": {
    "ExecuteTime": {
     "end_time": "2017-09-10T16:37:59.855450Z",
     "start_time": "2017-09-10T16:37:59.343911Z"
    },
    "uuid": "0fca4476-2003-4733-a6e1-f405997e1b1a"
   },
   "outputs": [
    {
     "name": "stdout",
     "output_type": "stream",
     "text": [
      "European Option Value   8.037\n",
      "Duration in Seconds     0.508\n"
     ]
    }
   ],
   "source": [
    "%run mcs_vector_numpy.py"
   ]
  },
  {
   "cell_type": "code",
   "execution_count": 68,
   "metadata": {
    "ExecuteTime": {
     "end_time": "2017-09-10T16:38:07.091751Z",
     "start_time": "2017-09-10T16:38:07.088628Z"
    },
    "uuid": "6d10a22b-fed3-4627-a2bc-6f958824ca2f"
   },
   "outputs": [
    {
     "data": {
      "text/plain": [
       "29.54"
      ]
     },
     "execution_count": 68,
     "metadata": {},
     "output_type": "execute_result"
    }
   ],
   "source": [
    "round(tpy / tnp1, 2)"
   ]
  },
  {
   "cell_type": "markdown",
   "metadata": {},
   "source": [
    "### Full Vectorization with Log Euler Scheme"
   ]
  },
  {
   "cell_type": "code",
   "execution_count": 69,
   "metadata": {
    "ExecuteTime": {
     "end_time": "2017-09-10T16:56:18.433295Z",
     "start_time": "2017-09-10T16:56:17.803459Z"
    },
    "uuid": "02a121e5-75ff-4ad1-9812-ec0e69d3ebaa"
   },
   "outputs": [
    {
     "name": "stdout",
     "output_type": "stream",
     "text": [
      "European Option Value   8.166\n",
      "Duration in Seconds     0.612\n"
     ]
    }
   ],
   "source": [
    "%run mcs_full_vector_numpy.py"
   ]
  },
  {
   "cell_type": "markdown",
   "metadata": {},
   "source": [
    "### Graphical Analysis"
   ]
  },
  {
   "cell_type": "code",
   "execution_count": 70,
   "metadata": {
    "ExecuteTime": {
     "end_time": "2017-09-10T17:00:35.753359Z",
     "start_time": "2017-09-10T17:00:35.548785Z"
    },
    "uuid": "f880bd6e-72fa-4906-b2a7-24f3c7419338"
   },
   "outputs": [
    {
     "data": {
      "text/plain": [
       "<matplotlib.text.Text at 0x10f4677f0>"
      ]
     },
     "execution_count": 70,
     "metadata": {},
     "output_type": "execute_result"
    },
    {
     "data": {
      "image/png": "[encoded data removed]",
      "text/plain": [
       "<matplotlib.figure.Figure at 0x10f422eb8>"
      ]
     },
     "metadata": {},
     "output_type": "display_data"
    }
   ],
   "source": [
    "import matplotlib.pyplot as plt\n",
    "plt.plot(S[:, :10])\n",
    "plt.grid(True)\n",
    "plt.xlabel('time step')\n",
    "plt.ylabel('index level')\n",
    "# tag: index_paths\n",
    "# title: The first 10 simulated index level paths"
   ]
  },
  {
   "cell_type": "code",
   "execution_count": 71,
   "metadata": {
    "ExecuteTime": {
     "end_time": "2017-09-10T17:00:49.728621Z",
     "start_time": "2017-09-10T17:00:49.453923Z"
    },
    "uuid": "997e2c48-f4e4-49c2-be9b-ce2ed0a2166f"
   },
   "outputs": [
    {
     "data": {
      "text/plain": [
       "<matplotlib.text.Text at 0x10f603780>"
      ]
     },
     "execution_count": 71,
     "metadata": {},
     "output_type": "execute_result"
    },
    {
     "data": {
      "image/png": "[encoded data removed]",
      "text/plain": [
       "<matplotlib.figure.Figure at 0x10f422e48>"
      ]
     },
     "metadata": {},
     "output_type": "display_data"
    }
   ],
   "source": [
    "plt.hist(S[-1], bins=50)\n",
    "plt.grid(True)\n",
    "plt.xlabel('index level')\n",
    "plt.ylabel('frequency')\n",
    "# tag: index_histo\n",
    "# title: Histogram of all simulated end of period index level values"
   ]
  },
  {
   "cell_type": "code",
   "execution_count": 72,
   "metadata": {
    "ExecuteTime": {
     "end_time": "2017-09-10T17:01:16.263533Z",
     "start_time": "2017-09-10T17:01:15.978558Z"
    },
    "scrolled": true,
    "uuid": "bc4f9174-c92c-4abf-9d31-da3e7d0baec5"
   },
   "outputs": [
    {
     "data": {
      "text/plain": [
       "(0, 50000)"
      ]
     },
     "execution_count": 72,
     "metadata": {},
     "output_type": "execute_result"
    },
    {
     "data": {
      "image/png": "[encoded data removed]",
      "text/plain": [
       "<matplotlib.figure.Figure at 0x10f1d0fd0>"
      ]
     },
     "metadata": {},
     "output_type": "display_data"
    }
   ],
   "source": [
    "plt.hist(np.maximum(S[-1] - K, 0), bins=50)\n",
    "plt.grid(True)\n",
    "plt.xlabel('option inner value')\n",
    "plt.ylabel('frequency')\n",
    "plt.ylim(0, 50000)\n",
    "# tag: option_iv_hist\n",
    "# title: Histogram of all simulated end of period option inner values"
   ]
  },
  {
   "cell_type": "code",
   "execution_count": 38,
   "metadata": {
    "uuid": "d5aed456-001a-423c-9366-df294f1c3f0b"
   },
   "outputs": [
    {
     "data": {
      "text/plain": [
       "133533"
      ]
     },
     "execution_count": 38,
     "metadata": {},
     "output_type": "execute_result"
    }
   ],
   "source": [
    "sum(S[-1] < K)"
   ]
  },
  {
   "cell_type": "markdown",
   "metadata": {},
   "source": [
    "## Technical Analysis"
   ]
  },
  {
   "cell_type": "code",
   "execution_count": 73,
   "metadata": {
    "ExecuteTime": {
     "end_time": "2017-09-10T17:06:50.164491Z",
     "start_time": "2017-09-10T17:06:49.895693Z"
    },
    "collapsed": true,
    "uuid": "dcba1a61-94e3-47dd-ab54-2c688e740741"
   },
   "outputs": [],
   "source": [
    "import numpy as np\n",
    "import pandas as pd\n",
    "from pandas_datareader import data as web"
   ]
  },
  {
   "cell_type": "code",
   "execution_count": 79,
   "metadata": {
    "ExecuteTime": {
     "end_time": "2017-09-10T17:09:31.865321Z",
     "start_time": "2017-09-10T17:09:30.402901Z"
    },
    "uuid": "3b6ce702-6a8c-400c-a6fc-d382f316dd9c"
   },
   "outputs": [
    {
     "name": "stdout",
     "output_type": "stream",
     "text": [
      "<class 'pandas.core.frame.DataFrame'>\n",
      "DatetimeIndex: 4000 entries, 2001-09-17 to 2017-08-08\n",
      "Data columns (total 5 columns):\n",
      "Open      3980 non-null float64\n",
      "High      3980 non-null float64\n",
      "Low       3980 non-null float64\n",
      "Close     4000 non-null float64\n",
      "Volume    4000 non-null int64\n",
      "dtypes: float64(4), int64(1)\n",
      "memory usage: 187.5 KB\n"
     ]
    }
   ],
   "source": [
    "SPY = web.DataReader('SPY', data_source='google',\n",
    "                       start='1/1/2000', end='8/8/2017')\n",
    "SPY.info()"
   ]
  },
  {
   "cell_type": "code",
   "execution_count": 80,
   "metadata": {
    "ExecuteTime": {
     "end_time": "2017-09-10T17:09:35.901467Z",
     "start_time": "2017-09-10T17:09:35.678279Z"
    },
    "uuid": "444a17d9-8fd1-436d-825a-3001cb080b7c"
   },
   "outputs": [
    {
     "data": {
      "text/plain": [
       "<matplotlib.axes._subplots.AxesSubplot at 0x140991208>"
      ]
     },
     "execution_count": 80,
     "metadata": {},
     "output_type": "execute_result"
    },
    {
     "data": {
      "image/png": "[encoded data removed]",
      "text/plain": [
       "<matplotlib.figure.Figure at 0x12da5ba58>"
      ]
     },
     "metadata": {},
     "output_type": "display_data"
    }
   ],
   "source": [
    "SPY['Close'].plot(grid=True, figsize=(8, 5))\n",
    "# tag: SPY\n",
    "# title: Historical levels of the S&P 500 index"
   ]
  },
  {
   "cell_type": "code",
   "execution_count": 81,
   "metadata": {
    "ExecuteTime": {
     "end_time": "2017-09-10T17:09:45.833168Z",
     "start_time": "2017-09-10T17:09:45.669410Z"
    },
    "collapsed": true,
    "uuid": "d134fa6d-4db4-40f3-b1ce-952ef2346e18"
   },
   "outputs": [],
   "source": [
    "SPY['42d'] = np.round(SPY['Close'].rolling(window=42).mean(), 2)\n",
    "SPY['252d'] = np.round(SPY['Close'].rolling(window=252).mean(), 2)"
   ]
  },
  {
   "cell_type": "code",
   "execution_count": 82,
   "metadata": {
    "ExecuteTime": {
     "end_time": "2017-09-10T17:09:48.170898Z",
     "start_time": "2017-09-10T17:09:48.161746Z"
    },
    "uuid": "8af03824-0abb-4747-9f8f-d517d48bd673"
   },
   "outputs": [
    {
     "data": {
      "text/html": [
       "<div>\n",
       "<style>\n",
       "    .dataframe thead tr:only-child th {\n",
       "        text-align: right;\n",
       "    }\n",
       "\n",
       "    .dataframe thead th {\n",
       "        text-align: left;\n",
       "    }\n",
       "\n",
       "    .dataframe tbody tr th {\n",
       "        vertical-align: top;\n",
       "    }\n",
       "</style>\n",
       "<table border=\"1\" class=\"dataframe\">\n",
       "  <thead>\n",
       "    <tr style=\"text-align: right;\">\n",
       "      <th></th>\n",
       "      <th>Close</th>\n",
       "      <th>42d</th>\n",
       "      <th>252d</th>\n",
       "    </tr>\n",
       "    <tr>\n",
       "      <th>Date</th>\n",
       "      <th></th>\n",
       "      <th></th>\n",
       "      <th></th>\n",
       "    </tr>\n",
       "  </thead>\n",
       "  <tbody>\n",
       "    <tr>\n",
       "      <th>2017-08-02</th>\n",
       "      <td>247.44</td>\n",
       "      <td>244.29</td>\n",
       "      <td>229.25</td>\n",
       "    </tr>\n",
       "    <tr>\n",
       "      <th>2017-08-03</th>\n",
       "      <td>246.96</td>\n",
       "      <td>244.36</td>\n",
       "      <td>229.37</td>\n",
       "    </tr>\n",
       "    <tr>\n",
       "      <th>2017-08-04</th>\n",
       "      <td>247.41</td>\n",
       "      <td>244.46</td>\n",
       "      <td>229.50</td>\n",
       "    </tr>\n",
       "    <tr>\n",
       "      <th>2017-08-07</th>\n",
       "      <td>247.87</td>\n",
       "      <td>244.56</td>\n",
       "      <td>229.62</td>\n",
       "    </tr>\n",
       "    <tr>\n",
       "      <th>2017-08-08</th>\n",
       "      <td>247.26</td>\n",
       "      <td>244.64</td>\n",
       "      <td>229.73</td>\n",
       "    </tr>\n",
       "  </tbody>\n",
       "</table>\n",
       "</div>"
      ],
      "text/plain": [
       "             Close     42d    252d\n",
       "Date                              \n",
       "2017-08-02  247.44  244.29  229.25\n",
       "2017-08-03  246.96  244.36  229.37\n",
       "2017-08-04  247.41  244.46  229.50\n",
       "2017-08-07  247.87  244.56  229.62\n",
       "2017-08-08  247.26  244.64  229.73"
      ]
     },
     "execution_count": 82,
     "metadata": {},
     "output_type": "execute_result"
    }
   ],
   "source": [
    "SPY[['Close', '42d', '252d']].tail()"
   ]
  },
  {
   "cell_type": "code",
   "execution_count": 83,
   "metadata": {
    "ExecuteTime": {
     "end_time": "2017-09-10T17:10:01.506549Z",
     "start_time": "2017-09-10T17:10:01.220859Z"
    },
    "uuid": "4dc6ac7e-6fac-4994-811b-35789c551de7"
   },
   "outputs": [
    {
     "data": {
      "text/plain": [
       "<matplotlib.axes._subplots.AxesSubplot at 0x10f5f2780>"
      ]
     },
     "execution_count": 83,
     "metadata": {},
     "output_type": "execute_result"
    },
    {
     "data": {
      "image/png": "[encoded data removed]",
      "text/plain": [
       "<matplotlib.figure.Figure at 0x13a4d72e8>"
      ]
     },
     "metadata": {},
     "output_type": "display_data"
    }
   ],
   "source": [
    "SPY[['Close', '42d', '252d']].plot(grid=True, figsize=(8, 5))\n",
    "# tag: SPY_trend\n",
    "# title: The S&P 500 index with 42d and 252d trend lines"
   ]
  },
  {
   "cell_type": "code",
   "execution_count": 84,
   "metadata": {
    "ExecuteTime": {
     "end_time": "2017-09-10T17:10:16.677479Z",
     "start_time": "2017-09-10T17:10:16.658581Z"
    },
    "uuid": "ccc2b0e9-5ab7-49c1-8054-3a1e1b23ab92"
   },
   "outputs": [
    {
     "data": {
      "text/plain": [
       "Date\n",
       "2017-08-02    15.04\n",
       "2017-08-03    14.99\n",
       "2017-08-04    14.96\n",
       "2017-08-07    14.94\n",
       "2017-08-08    14.91\n",
       "Name: 42-252, dtype: float64"
      ]
     },
     "execution_count": 84,
     "metadata": {},
     "output_type": "execute_result"
    }
   ],
   "source": [
    "SPY['42-252'] = SPY['42d'] - SPY['252d']\n",
    "SPY['42-252'].tail()"
   ]
  },
  {
   "cell_type": "code",
   "execution_count": 85,
   "metadata": {
    "ExecuteTime": {
     "end_time": "2017-09-10T17:10:25.024016Z",
     "start_time": "2017-09-10T17:10:25.014255Z"
    },
    "uuid": "e127f7c9-8e7f-4038-b490-502e6bf436f7"
   },
   "outputs": [
    {
     "data": {
      "text/plain": [
       "Date\n",
       "2001-09-17   NaN\n",
       "2001-09-18   NaN\n",
       "2001-09-19   NaN\n",
       "2001-09-20   NaN\n",
       "2001-09-21   NaN\n",
       "Name: 42-252, dtype: float64"
      ]
     },
     "execution_count": 85,
     "metadata": {},
     "output_type": "execute_result"
    }
   ],
   "source": [
    "SPY['42-252'].head()"
   ]
  },
  {
   "cell_type": "code",
   "execution_count": 86,
   "metadata": {
    "ExecuteTime": {
     "end_time": "2017-09-10T17:15:16.563563Z",
     "start_time": "2017-09-10T17:15:16.548798Z"
    },
    "uuid": "d1125e1b-3cd0-4274-aee7-9b1136db8c02"
   },
   "outputs": [
    {
     "data": {
      "text/plain": [
       " 1    2082\n",
       " 0    1293\n",
       "-1     625\n",
       "Name: Regime, dtype: int64"
      ]
     },
     "execution_count": 86,
     "metadata": {},
     "output_type": "execute_result"
    }
   ],
   "source": [
    "SD = 5\n",
    "SPY['Regime'] = np.where(SPY['42-252'] > SD, 1, 0)\n",
    "SPY['Regime'] = np.where(SPY['42-252'] < -SD, -1, SPY['Regime'])\n",
    "SPY['Regime'].value_counts()"
   ]
  },
  {
   "cell_type": "code",
   "execution_count": 87,
   "metadata": {
    "ExecuteTime": {
     "end_time": "2017-09-10T17:17:31.778468Z",
     "start_time": "2017-09-10T17:17:31.569273Z"
    },
    "uuid": "ffec4dc1-ebb4-43e1-962d-1fbc465afee1"
   },
   "outputs": [
    {
     "data": {
      "text/plain": [
       "(-1.1, 1.1)"
      ]
     },
     "execution_count": 87,
     "metadata": {},
     "output_type": "execute_result"
    },
    {
     "data": {
      "image/png": "[encoded data removed]",
      "text/plain": [
       "<matplotlib.figure.Figure at 0x133fa0d30>"
      ]
     },
     "metadata": {},
     "output_type": "display_data"
    }
   ],
   "source": [
    "SPY['Regime'].plot(lw=1.5, grid=True)\n",
    "plt.ylim([-1.1, 1.1])\n",
    "# tag: SPY_signal\n",
    "# title: Signal regimes over time"
   ]
  },
  {
   "cell_type": "code",
   "execution_count": 88,
   "metadata": {
    "ExecuteTime": {
     "end_time": "2017-09-10T17:19:29.711117Z",
     "start_time": "2017-09-10T17:19:29.700795Z"
    },
    "collapsed": true,
    "uuid": "0e51676f-7b84-441d-8191-08799247774c"
   },
   "outputs": [],
   "source": [
    "SPY['Market'] = np.log(SPY['Close'] / SPY['Close'].shift(1))"
   ]
  },
  {
   "cell_type": "code",
   "execution_count": 89,
   "metadata": {
    "ExecuteTime": {
     "end_time": "2017-09-10T17:20:24.263023Z",
     "start_time": "2017-09-10T17:20:24.259366Z"
    },
    "collapsed": true,
    "uuid": "25f3c42a-ec95-46e3-a194-4e29f0c830af"
   },
   "outputs": [],
   "source": [
    "SPY['Strategy'] = SPY['Regime'].shift(1) * SPY['Market']"
   ]
  },
  {
   "cell_type": "code",
   "execution_count": 90,
   "metadata": {
    "ExecuteTime": {
     "end_time": "2017-09-10T17:21:16.239877Z",
     "start_time": "2017-09-10T17:21:15.963716Z"
    },
    "uuid": "ce759e67-918d-432c-a411-b22c6777dac5"
   },
   "outputs": [
    {
     "data": {
      "text/plain": [
       "<matplotlib.axes._subplots.AxesSubplot at 0x134019400>"
      ]
     },
     "execution_count": 90,
     "metadata": {},
     "output_type": "execute_result"
    },
    {
     "data": {
      "image/png": "[encoded data removed]",
      "text/plain": [
       "<matplotlib.figure.Figure at 0x133fe2be0>"
      ]
     },
     "metadata": {},
     "output_type": "display_data"
    }
   ],
   "source": [
    "SPY[['Market', 'Strategy']].cumsum().apply(np.exp).plot(grid=True,\n",
    "                                                    figsize=(8, 5))\n",
    "# tag: SPY_wealth\n",
    "# title: The S&P 500 index vs. investor's wealth"
   ]
  },
  {
   "cell_type": "markdown",
   "metadata": {},
   "source": [
    "## Conclusions"
   ]
  },
  {
   "cell_type": "markdown",
   "metadata": {},
   "source": [
    "## Further Reading"
   ]
  },
  {
   "cell_type": "markdown",
   "metadata": {},
   "source": [
    "<img src=\"http://hilpisch.com/tpq_logo.png\" alt=\"The Python Quants\" width=\"35%\" align=\"right\" border=\"0\"><br>\n",
    "\n",
    "<a href=\"http://tpq.io\" target=\"_blank\">http://tpq.io</a> | <a href=\"http://twitter.com/dyjh\" target=\"_blank\">@dyjh</a> | <a href=\"mailto:training@tpq.io\">training@tpq.io</a>\n",
    "\n",
    "**Quant Platform** |\n",
    "<a href=\"http://quant-platform.com\">http://quant-platform.com</a>\n",
    "\n",
    "**Python for Finance** |\n",
    "<a href=\"http://python-for-finance.com\" target=\"_blank\">Python for Finance @ O'Reilly</a>\n",
    "\n",
    "**Derivatives Analytics with Python** |\n",
    "<a href=\"http://derivatives-analytics-with-python.com\" target=\"_blank\">Derivatives Analytics @ Wiley Finance</a>\n",
    "\n",
    "**Listed Volatility and Variance Derivatives** |\n",
    "<a href=\"http://lvvd.tpq.io\" target=\"_blank\">Listed VV Derivatives @ Wiley Finance</a>\n",
    "\n",
    "**Python Training** |\n",
    "<a href=\"http://training.tpq.io\" target=\"_blank\">Python for Finance University Certificate</a>"
   ]
  }
 ],
 "metadata": {
  "anaconda-cloud": {},
  "kernelspec": {
   "display_name": "Python 3",
   "language": "python",
   "name": "python3"
  },
  "language_info": {
   "codemirror_mode": {
    "name": "ipython",
    "version": 3
   },
   "file_extension": ".py",
   "mimetype": "text/x-python",
   "name": "python",
   "nbconvert_exporter": "python",
   "pygments_lexer": "ipython3",
   "version": "3.6.1"
  },
  "toc": {
   "colors": {
    "hover_highlight": "#DAA520",
    "navigate_num": "#000000",
    "navigate_text": "#333333",
    "running_highlight": "#FF0000",
    "selected_highlight": "#FFD700",
    "sidebar_border": "#EEEEEE",
    "wrapper_background": "#FFFFFF"
   },
   "moveMenuLeft": true,
   "nav_menu": {
    "height": "205px",
    "width": "253px"
   },
   "navigate_menu": true,
   "number_sections": true,
   "sideBar": true,
   "threshold": 4,
   "toc_cell": false,
   "toc_section_display": "block",
   "toc_window_display": false,
   "widenNotebook": false
  }
 },
 "nbformat": 4,
 "nbformat_minor": 1
}
